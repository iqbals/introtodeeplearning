{
  "nbformat": 4,
  "nbformat_minor": 0,
  "metadata": {
    "colab": {
      "name": "Active Learning Tutorial for CDoT",
      "provenance": [],
      "collapsed_sections": [
        "58LnaqXvDB0M"
      ],
      "include_colab_link": true
    },
    "kernelspec": {
      "name": "python3",
      "display_name": "Python 3"
    },
    "language_info": {
      "name": "python"
    },
    "accelerator": "GPU"
  },
  "cells": [
    {
      "cell_type": "markdown",
      "metadata": {
        "id": "view-in-github",
        "colab_type": "text"
      },
      "source": [
        "<a href=\"https://colab.research.google.com/github/iqbals/introtodeeplearning/blob/master/Active_Learning_Tutorial_for_CDoT.ipynb\" target=\"_parent\"><img src=\"https://colab.research.google.com/assets/colab-badge.svg\" alt=\"Open In Colab\"/></a>"
      ]
    },
    {
      "cell_type": "markdown",
      "metadata": {
        "id": "Gu5IKB_FibOj"
      },
      "source": [
        "# Active Learning Tutorial\n",
        "\n",
        "This notebook is available at [broad.io/pyro-cdot-notebook](http://broad.io/pyro-cdot-notebook).\n",
        "See also [introductory slides](https://docs.google.com/presentation/d/1LqNbAGJ3xmUZx9OCWXJlzHwvJLppCrn5Jd6OuxswM5A/edit?usp=sharing).\n",
        "\n",
        "Note this is a demo/simulation, we'll start with a fully-tested dataset, then \"reveal\" labels to simulate lab work.\n",
        "\n",
        "First we'll install Pyro and import Pyro and PyTorch.  This notebook can run on either CPU or GPU (runtime --> change runtime type). You can also run locally by starting a jupyter server locally."
      ]
    },
    {
      "cell_type": "code",
      "metadata": {
        "colab": {
          "base_uri": "https://localhost:8080/"
        },
        "id": "nCsStwqE0JJG",
        "outputId": "28ec20ee-79e9-48d7-af33-c4549018e339"
      },
      "source": [
        "!pip install -q pyro-ppl\n",
        "import torch\n",
        "import pyro\n",
        "import pyro.distributions as dist\n",
        "from pyro.infer import SVI, Trace_ELBO, JitTrace_ELBO\n",
        "from pyro.infer.autoguide import AutoLowRankMultivariateNormal\n",
        "from pyro.optim import ClippedAdam\n",
        "from pyro.nn.module import to_pyro_module_, PyroSample\n",
        "from pyro import poutine\n",
        "import matplotlib.pyplot as plt\n",
        "\n",
        "if torch.cuda.is_available():\n",
        "    print(\"using GPU\")\n",
        "    torch.set_default_tensor_type(\"torch.cuda.FloatTensor\")\n",
        "else:\n",
        "    print(\"using CPU\")"
      ],
      "execution_count": null,
      "outputs": [
        {
          "output_type": "stream",
          "name": "stdout",
          "text": [
            "using CPU\n"
          ]
        }
      ]
    },
    {
      "cell_type": "markdown",
      "metadata": {
        "id": "UbdTg-NS250b"
      },
      "source": [
        "## Load dataset #1"
      ]
    },
    {
      "cell_type": "markdown",
      "metadata": {
        "id": "ELbvlnGco3SW"
      },
      "source": [
        "We've stored both this notebook and our input data in Google Drive, that way everyone who has access to the data has access to this notebook.\n",
        "\n",
        "To run this, you'll need to click the link, authorize colab in another tab, copy the auth token, close that other tab, and paste the auth token back here."
      ]
    },
    {
      "cell_type": "code",
      "metadata": {
        "id": "Yp8uCm3Heu42",
        "colab": {
          "base_uri": "https://localhost:8080/"
        },
        "outputId": "f427a101-261b-4729-d521-627c2e0dfddc"
      },
      "source": [
        "!pip install -q pydrive2\n",
        "from pydrive2.auth import GoogleAuth\n",
        "from pydrive2.drive import GoogleDrive\n",
        "from google.colab import auth\n",
        "from oauth2client.client import GoogleCredentials\n",
        "auth.authenticate_user()\n",
        "gauth = GoogleAuth()\n",
        "gauth.credentials = GoogleCredentials.get_application_default()\n",
        "drive = GoogleDrive(gauth)"
      ],
      "execution_count": null,
      "outputs": [
        {
          "output_type": "stream",
          "name": "stdout",
          "text": [
            "\u001b[K     |████████████████████████████████| 55 kB 3.0 MB/s \n",
            "\u001b[K     |████████████████████████████████| 3.5 MB 11.8 MB/s \n",
            "\u001b[?25h"
          ]
        }
      ]
    },
    {
      "cell_type": "code",
      "metadata": {
        "id": "0PYa5E9rfjcS"
      },
      "source": [
        "# Download files from Google Drive to the notebook runtime.\n",
        "filename_to_id = {\n",
        "    \"positives.csv\": \"1iZ5mC7p2HkdUXs5-H2N2bHCUdb6vLb-I\",\n",
        "    \"negatives.csv\": \"1tTvVuKiI5yqanAbOvfcp39fstjnPcyga\",\n",
        "}\n",
        "for filename, drive_id in filename_to_id.items():\n",
        "    drive.CreateFile({\"id\": drive_id}).GetContentFile(filename)"
      ],
      "execution_count": null,
      "outputs": []
    },
    {
      "cell_type": "code",
      "metadata": {
        "colab": {
          "base_uri": "https://localhost:8080/",
          "height": 456
        },
        "id": "0b9FdeJEfow7",
        "outputId": "02b060d8-ebbb-43a5-b8d6-5b5f4178c55a"
      },
      "source": [
        "import pandas as pd\n",
        "pos_df = pd.read_csv(\"positives.csv\", header=None)\n",
        "neg_df = pd.read_csv(\"negatives.csv\", header=None)\n",
        "pos_df"
      ],
      "execution_count": null,
      "outputs": [
        {
          "output_type": "execute_result",
          "data": {
            "text/plain": [
              "                                                   0     1     2     3     \\\n",
              "0     CNC(=O)[C@@H](Cc1ccncc1)NC(=O)c2cccc(C3CCCN(C(...     0     1     0   \n",
              "1     CNC(=O)CNC(=O)c1cccc(C2CCCN(C(=O)Cc3cccc(CNS(=...     0     0     0   \n",
              "2     CNC(=O)C[C@H](NC(=O)c1cccc(C2CCCN(C(=O)CNS(=O)...     0     1     0   \n",
              "3     CNC(=O)C1c2ccccc2CN1C(=O)c3cccc(C4CCN(C(=O)CNS...     0     1     0   \n",
              "4     CNC(=O)C[C@H](NC(=O)c1cccc(C2CCN(C(=O)CNS(=O)(...     0     1     0   \n",
              "...                                                 ...   ...   ...   ...   \n",
              "4995  CNC(=O)c1cc(NC(=O)C=Cc2ccnc3c(Cl)cccc23)ccc1-c...     0     0     0   \n",
              "4996  CNC(=O)c1cc(NC(=O)C=Cc2ccnc3c(Cl)cccc23)ccc1-c...     0     0     0   \n",
              "4997  CNC(=O)c1cc(NC(=O)C=Cc2ccnc3c(Cl)cccc23)ccc1-c...     0     0     0   \n",
              "4998  CNC(=O)c1cccc(NC(=O)C=Cc2ccc3cc(Br)ccc3n2)c1-c...     0     1     0   \n",
              "4999  CNC(=O)c1ccc(-c2ccc(NC(=O)C=Cc3ccnc4c(Cl)cccc3...     0     0     0   \n",
              "\n",
              "      4     5     6     7     8     9     ...  1015  1016  1017  1018  1019  \\\n",
              "0        0     1     0     0     0     0  ...     0     0     0     0     0   \n",
              "1        0     1     0     0     0     0  ...     0     0     0     0     0   \n",
              "2        0     1     0     0     0     0  ...     0     0     0     0     0   \n",
              "3        1     0     0     0     0     0  ...     0     0     0     0     0   \n",
              "4        0     0     0     0     0     0  ...     0     0     0     0     0   \n",
              "...    ...   ...   ...   ...   ...   ...  ...   ...   ...   ...   ...   ...   \n",
              "4995     0     0     0     0     0     0  ...     0     1     0     0     0   \n",
              "4996     0     0     0     0     0     0  ...     0     1     0     0     0   \n",
              "4997     0     0     0     0     0     0  ...     0     1     0     0     0   \n",
              "4998     0     0     0     0     0     0  ...     0     1     0     0     0   \n",
              "4999     0     0     0     0     0     0  ...     0     1     0     0     0   \n",
              "\n",
              "      1020  1021  1022  1023  1024  \n",
              "0        1     0     0     0     0  \n",
              "1        1     0     0     0     0  \n",
              "2        1     0     0     0     0  \n",
              "3        1     0     0     0     0  \n",
              "4        1     0     0     0     0  \n",
              "...    ...   ...   ...   ...   ...  \n",
              "4995     0     0     0     0     0  \n",
              "4996     1     0     0     0     0  \n",
              "4997     0     0     0     0     0  \n",
              "4998     0     0     0     0     0  \n",
              "4999     0     0     0     0     0  \n",
              "\n",
              "[5000 rows x 1025 columns]"
            ],
            "text/html": [
              "<div>\n",
              "<style scoped>\n",
              "    .dataframe tbody tr th:only-of-type {\n",
              "        vertical-align: middle;\n",
              "    }\n",
              "\n",
              "    .dataframe tbody tr th {\n",
              "        vertical-align: top;\n",
              "    }\n",
              "\n",
              "    .dataframe thead th {\n",
              "        text-align: right;\n",
              "    }\n",
              "</style>\n",
              "<table border=\"1\" class=\"dataframe\">\n",
              "  <thead>\n",
              "    <tr style=\"text-align: right;\">\n",
              "      <th></th>\n",
              "      <th>0</th>\n",
              "      <th>1</th>\n",
              "      <th>2</th>\n",
              "      <th>3</th>\n",
              "      <th>4</th>\n",
              "      <th>5</th>\n",
              "      <th>6</th>\n",
              "      <th>7</th>\n",
              "      <th>8</th>\n",
              "      <th>9</th>\n",
              "      <th>...</th>\n",
              "      <th>1015</th>\n",
              "      <th>1016</th>\n",
              "      <th>1017</th>\n",
              "      <th>1018</th>\n",
              "      <th>1019</th>\n",
              "      <th>1020</th>\n",
              "      <th>1021</th>\n",
              "      <th>1022</th>\n",
              "      <th>1023</th>\n",
              "      <th>1024</th>\n",
              "    </tr>\n",
              "  </thead>\n",
              "  <tbody>\n",
              "    <tr>\n",
              "      <th>0</th>\n",
              "      <td>CNC(=O)[C@@H](Cc1ccncc1)NC(=O)c2cccc(C3CCCN(C(...</td>\n",
              "      <td>0</td>\n",
              "      <td>1</td>\n",
              "      <td>0</td>\n",
              "      <td>0</td>\n",
              "      <td>1</td>\n",
              "      <td>0</td>\n",
              "      <td>0</td>\n",
              "      <td>0</td>\n",
              "      <td>0</td>\n",
              "      <td>...</td>\n",
              "      <td>0</td>\n",
              "      <td>0</td>\n",
              "      <td>0</td>\n",
              "      <td>0</td>\n",
              "      <td>0</td>\n",
              "      <td>1</td>\n",
              "      <td>0</td>\n",
              "      <td>0</td>\n",
              "      <td>0</td>\n",
              "      <td>0</td>\n",
              "    </tr>\n",
              "    <tr>\n",
              "      <th>1</th>\n",
              "      <td>CNC(=O)CNC(=O)c1cccc(C2CCCN(C(=O)Cc3cccc(CNS(=...</td>\n",
              "      <td>0</td>\n",
              "      <td>0</td>\n",
              "      <td>0</td>\n",
              "      <td>0</td>\n",
              "      <td>1</td>\n",
              "      <td>0</td>\n",
              "      <td>0</td>\n",
              "      <td>0</td>\n",
              "      <td>0</td>\n",
              "      <td>...</td>\n",
              "      <td>0</td>\n",
              "      <td>0</td>\n",
              "      <td>0</td>\n",
              "      <td>0</td>\n",
              "      <td>0</td>\n",
              "      <td>1</td>\n",
              "      <td>0</td>\n",
              "      <td>0</td>\n",
              "      <td>0</td>\n",
              "      <td>0</td>\n",
              "    </tr>\n",
              "    <tr>\n",
              "      <th>2</th>\n",
              "      <td>CNC(=O)C[C@H](NC(=O)c1cccc(C2CCCN(C(=O)CNS(=O)...</td>\n",
              "      <td>0</td>\n",
              "      <td>1</td>\n",
              "      <td>0</td>\n",
              "      <td>0</td>\n",
              "      <td>1</td>\n",
              "      <td>0</td>\n",
              "      <td>0</td>\n",
              "      <td>0</td>\n",
              "      <td>0</td>\n",
              "      <td>...</td>\n",
              "      <td>0</td>\n",
              "      <td>0</td>\n",
              "      <td>0</td>\n",
              "      <td>0</td>\n",
              "      <td>0</td>\n",
              "      <td>1</td>\n",
              "      <td>0</td>\n",
              "      <td>0</td>\n",
              "      <td>0</td>\n",
              "      <td>0</td>\n",
              "    </tr>\n",
              "    <tr>\n",
              "      <th>3</th>\n",
              "      <td>CNC(=O)C1c2ccccc2CN1C(=O)c3cccc(C4CCN(C(=O)CNS...</td>\n",
              "      <td>0</td>\n",
              "      <td>1</td>\n",
              "      <td>0</td>\n",
              "      <td>1</td>\n",
              "      <td>0</td>\n",
              "      <td>0</td>\n",
              "      <td>0</td>\n",
              "      <td>0</td>\n",
              "      <td>0</td>\n",
              "      <td>...</td>\n",
              "      <td>0</td>\n",
              "      <td>0</td>\n",
              "      <td>0</td>\n",
              "      <td>0</td>\n",
              "      <td>0</td>\n",
              "      <td>1</td>\n",
              "      <td>0</td>\n",
              "      <td>0</td>\n",
              "      <td>0</td>\n",
              "      <td>0</td>\n",
              "    </tr>\n",
              "    <tr>\n",
              "      <th>4</th>\n",
              "      <td>CNC(=O)C[C@H](NC(=O)c1cccc(C2CCN(C(=O)CNS(=O)(...</td>\n",
              "      <td>0</td>\n",
              "      <td>1</td>\n",
              "      <td>0</td>\n",
              "      <td>0</td>\n",
              "      <td>0</td>\n",
              "      <td>0</td>\n",
              "      <td>0</td>\n",
              "      <td>0</td>\n",
              "      <td>0</td>\n",
              "      <td>...</td>\n",
              "      <td>0</td>\n",
              "      <td>0</td>\n",
              "      <td>0</td>\n",
              "      <td>0</td>\n",
              "      <td>0</td>\n",
              "      <td>1</td>\n",
              "      <td>0</td>\n",
              "      <td>0</td>\n",
              "      <td>0</td>\n",
              "      <td>0</td>\n",
              "    </tr>\n",
              "    <tr>\n",
              "      <th>...</th>\n",
              "      <td>...</td>\n",
              "      <td>...</td>\n",
              "      <td>...</td>\n",
              "      <td>...</td>\n",
              "      <td>...</td>\n",
              "      <td>...</td>\n",
              "      <td>...</td>\n",
              "      <td>...</td>\n",
              "      <td>...</td>\n",
              "      <td>...</td>\n",
              "      <td>...</td>\n",
              "      <td>...</td>\n",
              "      <td>...</td>\n",
              "      <td>...</td>\n",
              "      <td>...</td>\n",
              "      <td>...</td>\n",
              "      <td>...</td>\n",
              "      <td>...</td>\n",
              "      <td>...</td>\n",
              "      <td>...</td>\n",
              "      <td>...</td>\n",
              "    </tr>\n",
              "    <tr>\n",
              "      <th>4995</th>\n",
              "      <td>CNC(=O)c1cc(NC(=O)C=Cc2ccnc3c(Cl)cccc23)ccc1-c...</td>\n",
              "      <td>0</td>\n",
              "      <td>0</td>\n",
              "      <td>0</td>\n",
              "      <td>0</td>\n",
              "      <td>0</td>\n",
              "      <td>0</td>\n",
              "      <td>0</td>\n",
              "      <td>0</td>\n",
              "      <td>0</td>\n",
              "      <td>...</td>\n",
              "      <td>0</td>\n",
              "      <td>1</td>\n",
              "      <td>0</td>\n",
              "      <td>0</td>\n",
              "      <td>0</td>\n",
              "      <td>0</td>\n",
              "      <td>0</td>\n",
              "      <td>0</td>\n",
              "      <td>0</td>\n",
              "      <td>0</td>\n",
              "    </tr>\n",
              "    <tr>\n",
              "      <th>4996</th>\n",
              "      <td>CNC(=O)c1cc(NC(=O)C=Cc2ccnc3c(Cl)cccc23)ccc1-c...</td>\n",
              "      <td>0</td>\n",
              "      <td>0</td>\n",
              "      <td>0</td>\n",
              "      <td>0</td>\n",
              "      <td>0</td>\n",
              "      <td>0</td>\n",
              "      <td>0</td>\n",
              "      <td>0</td>\n",
              "      <td>0</td>\n",
              "      <td>...</td>\n",
              "      <td>0</td>\n",
              "      <td>1</td>\n",
              "      <td>0</td>\n",
              "      <td>0</td>\n",
              "      <td>0</td>\n",
              "      <td>1</td>\n",
              "      <td>0</td>\n",
              "      <td>0</td>\n",
              "      <td>0</td>\n",
              "      <td>0</td>\n",
              "    </tr>\n",
              "    <tr>\n",
              "      <th>4997</th>\n",
              "      <td>CNC(=O)c1cc(NC(=O)C=Cc2ccnc3c(Cl)cccc23)ccc1-c...</td>\n",
              "      <td>0</td>\n",
              "      <td>0</td>\n",
              "      <td>0</td>\n",
              "      <td>0</td>\n",
              "      <td>0</td>\n",
              "      <td>0</td>\n",
              "      <td>0</td>\n",
              "      <td>0</td>\n",
              "      <td>0</td>\n",
              "      <td>...</td>\n",
              "      <td>0</td>\n",
              "      <td>1</td>\n",
              "      <td>0</td>\n",
              "      <td>0</td>\n",
              "      <td>0</td>\n",
              "      <td>0</td>\n",
              "      <td>0</td>\n",
              "      <td>0</td>\n",
              "      <td>0</td>\n",
              "      <td>0</td>\n",
              "    </tr>\n",
              "    <tr>\n",
              "      <th>4998</th>\n",
              "      <td>CNC(=O)c1cccc(NC(=O)C=Cc2ccc3cc(Br)ccc3n2)c1-c...</td>\n",
              "      <td>0</td>\n",
              "      <td>1</td>\n",
              "      <td>0</td>\n",
              "      <td>0</td>\n",
              "      <td>0</td>\n",
              "      <td>0</td>\n",
              "      <td>0</td>\n",
              "      <td>0</td>\n",
              "      <td>0</td>\n",
              "      <td>...</td>\n",
              "      <td>0</td>\n",
              "      <td>1</td>\n",
              "      <td>0</td>\n",
              "      <td>0</td>\n",
              "      <td>0</td>\n",
              "      <td>0</td>\n",
              "      <td>0</td>\n",
              "      <td>0</td>\n",
              "      <td>0</td>\n",
              "      <td>0</td>\n",
              "    </tr>\n",
              "    <tr>\n",
              "      <th>4999</th>\n",
              "      <td>CNC(=O)c1ccc(-c2ccc(NC(=O)C=Cc3ccnc4c(Cl)cccc3...</td>\n",
              "      <td>0</td>\n",
              "      <td>0</td>\n",
              "      <td>0</td>\n",
              "      <td>0</td>\n",
              "      <td>0</td>\n",
              "      <td>0</td>\n",
              "      <td>0</td>\n",
              "      <td>0</td>\n",
              "      <td>0</td>\n",
              "      <td>...</td>\n",
              "      <td>0</td>\n",
              "      <td>1</td>\n",
              "      <td>0</td>\n",
              "      <td>0</td>\n",
              "      <td>0</td>\n",
              "      <td>0</td>\n",
              "      <td>0</td>\n",
              "      <td>0</td>\n",
              "      <td>0</td>\n",
              "      <td>0</td>\n",
              "    </tr>\n",
              "  </tbody>\n",
              "</table>\n",
              "<p>5000 rows × 1025 columns</p>\n",
              "</div>"
            ]
          },
          "metadata": {},
          "execution_count": 30
        }
      ]
    },
    {
      "cell_type": "markdown",
      "metadata": {
        "id": "ph-pcE1i3fnv"
      },
      "source": [
        "Convert dataframes to PyTorch."
      ]
    },
    {
      "cell_type": "code",
      "metadata": {
        "colab": {
          "base_uri": "https://localhost:8080/"
        },
        "id": "dIqxZ_zK1JLY",
        "outputId": "306ab131-fc08-4438-dd02-6da0f697dce3"
      },
      "source": [
        "pos_features = torch.tensor(pos_df[list(range(1, 1025))].to_numpy(), dtype=torch.float)\n",
        "neg_features = torch.tensor(neg_df[list(range(1, 1025))].to_numpy(), dtype=torch.float)\n",
        "print(pos_features.shape, neg_features.shape)"
      ],
      "execution_count": null,
      "outputs": [
        {
          "output_type": "stream",
          "name": "stdout",
          "text": [
            "torch.Size([5000, 1024]) torch.Size([10000, 1024])\n"
          ]
        }
      ]
    },
    {
      "cell_type": "markdown",
      "metadata": {
        "id": "HZgp5ebG3iI5"
      },
      "source": [
        "Merge positive and negative data."
      ]
    },
    {
      "cell_type": "code",
      "metadata": {
        "id": "DScSNFql2TGm"
      },
      "source": [
        "features = torch.cat([pos_features, neg_features], 0)\n",
        "true_labels = torch.cat([torch.ones(len(pos_features)), torch.zeros(len(neg_features))])"
      ],
      "execution_count": null,
      "outputs": []
    },
    {
      "cell_type": "markdown",
      "metadata": {
        "id": "SP5XGITG3bzB"
      },
      "source": [
        "Randomly shuffle data for our simulated experiment."
      ]
    },
    {
      "cell_type": "code",
      "metadata": {
        "id": "jFmljnlSq4ho"
      },
      "source": [
        "torch.manual_seed(20211014)\n",
        "perm = torch.randperm(len(features))\n",
        "\n",
        "features = features[perm]\n",
        "true_labels = true_labels[perm]"
      ],
      "execution_count": null,
      "outputs": []
    },
    {
      "cell_type": "markdown",
      "metadata": {
        "id": "yokbfyaU3yKm"
      },
      "source": [
        "## Set up an active learning experiment."
      ]
    },
    {
      "cell_type": "code",
      "metadata": {
        "colab": {
          "base_uri": "https://localhost:8080/"
        },
        "id": "ekiQCB4937yP",
        "outputId": "25654245-e9b3-42fb-e02c-5bb1163b4904"
      },
      "source": [
        "print(features.shape, true_labels.shape)"
      ],
      "execution_count": null,
      "outputs": [
        {
          "output_type": "stream",
          "name": "stdout",
          "text": [
            "torch.Size([15000, 1024]) torch.Size([15000])\n"
          ]
        }
      ]
    },
    {
      "cell_type": "code",
      "metadata": {
        "id": "kRP391i-xbC4"
      },
      "source": [
        "def reveal_labels(ids):\n",
        "    \"Simulates obtaining labels from a lab experiment.\"\n",
        "    return true_labels[ids]"
      ],
      "execution_count": null,
      "outputs": []
    },
    {
      "cell_type": "markdown",
      "metadata": {
        "id": "FP2rpVaWubl9"
      },
      "source": [
        "Create an initial batch of data arbitrarily, and test this."
      ]
    },
    {
      "cell_type": "code",
      "metadata": {
        "id": "ybpCOSjouTnt"
      },
      "source": [
        "batch = {}\n",
        "batch[\"ids\"] = torch.arange(1000)  # arbitrary\n",
        "batch[\"features\"] = features[batch[\"ids\"]]\n",
        "batch[\"labels\"] = reveal_labels(batch[\"ids\"])\n",
        "initial_batch = batch"
      ],
      "execution_count": null,
      "outputs": []
    },
    {
      "cell_type": "markdown",
      "metadata": {
        "id": "E_DDQ4FpDVh7"
      },
      "source": [
        "We'll define three simple classification models that we'll train at each step of active learning. The first model is a naive random baseline model."
      ]
    },
    {
      "cell_type": "code",
      "metadata": {
        "id": "kN5QRy2yQ0nK"
      },
      "source": [
        "class RandomModel:\n",
        "    def fit(self, features, labels, **kwargs):\n",
        "        pass\n",
        "\n",
        "    def predict_logits(self, features):\n",
        "        return torch.randn(features.shape[:-1])"
      ],
      "execution_count": null,
      "outputs": []
    },
    {
      "cell_type": "markdown",
      "metadata": {
        "id": "mprWR6YQI2ga"
      },
      "source": [
        "The second model is a greedy neural network model."
      ]
    },
    {
      "cell_type": "code",
      "metadata": {
        "id": "og_brGFJ414z"
      },
      "source": [
        "class GreedyMLP(pyro.nn.PyroModule):\n",
        "    def __init__(self, layer_sizes=[1024, 128, 1]):\n",
        "        super().__init__()\n",
        "        layers = []\n",
        "        for in_size, out_size in zip(layer_sizes[:-1], layer_sizes[1:]):\n",
        "            layers.append(torch.nn.Linear(in_size, out_size))\n",
        "            layers.append(torch.nn.Sigmoid())\n",
        "        layers.pop(-1)\n",
        "        self.mlp = torch.nn.Sequential(*layers)\n",
        "\n",
        "    def forward(self, features, labels, subsample_size=None):\n",
        "        self.mlp[-1].weight  # triggers pyro.sample before the plate\n",
        "        with pyro.plate(\"molecules\", len(features), subsample_size) as batch:\n",
        "            logits = self.mlp(features[batch]).squeeze(-1)\n",
        "            pyro.sample(\"labels\", dist.Bernoulli(logits=logits), obs=labels[batch])\n",
        "\n",
        "    def fit(self, features, labels, *,\n",
        "            lr=1e-2, num_steps=10001, log_every=1000, batch_size=64):\n",
        "        def guide(*args, **kwargs):\n",
        "            pass\n",
        "        pyro.clear_param_store()\n",
        "        optim = ClippedAdam({\"lr\": lr, \"lrd\": 0.1 ** (1 / num_steps)})\n",
        "        elbo = JitTrace_ELBO(ignore_jit_warnings=True)\n",
        "        svi = SVI(self, guide, optim, elbo)\n",
        "        losses = []\n",
        "        for step in range(num_steps):\n",
        "            loss = svi.step(features, labels, subsample_size=batch_size)\n",
        "            loss /= len(labels)\n",
        "            losses.append(loss)\n",
        "            if log_every and step % log_every == 0:\n",
        "                print(f\"step {step} loss = {loss:0.6g}\")\n",
        "        return losses\n",
        "\n",
        "    @torch.no_grad()\n",
        "    def predict_logits(self, features):\n",
        "        return self.mlp(features).squeeze(-1)"
      ],
      "execution_count": null,
      "outputs": []
    },
    {
      "cell_type": "markdown",
      "metadata": {
        "id": "pxxkqgmmI6aX"
      },
      "source": [
        "The third model uses a Bayesian neural network to balance exploration and exploitation."
      ]
    },
    {
      "cell_type": "code",
      "metadata": {
        "id": "LMlZ9LlrQziz"
      },
      "source": [
        "class ExploratoryMLP(GreedyMLP):\n",
        "    def fit(self, features, labels, *,\n",
        "            lr=1e-2, num_steps=10001, log_every=1000, batch_size=64):\n",
        "        # First fit self as a maximum likelihood neural network.\n",
        "        losses = super().fit(\n",
        "            features, labels, lr=lr,\n",
        "            num_steps=num_steps, log_every=log_every, batch_size=batch_size\n",
        "        )\n",
        "\n",
        "        # Then convert self in-place to a Bayesian neural network.\n",
        "        to_pyro_module_(self.mlp)\n",
        "        weight = self.mlp[-1].weight.data\n",
        "        self.mlp[-1].weight = PyroSample(dist.Normal(weight, 1).to_event(2))\n",
        "        \n",
        "        # Then retrain.\n",
        "        guide = AutoLowRankMultivariateNormal(self, init_scale=0.01)\n",
        "        optim = ClippedAdam({\"lr\": lr, \"lrd\": 0.1 ** (1 / num_steps)})\n",
        "        elbo = JitTrace_ELBO(ignore_jit_warnings=True)\n",
        "        svi = SVI(self, guide, optim, elbo)\n",
        "        for step in range(num_steps):\n",
        "            loss = svi.step(features, labels, subsample_size=batch_size)\n",
        "            loss /= len(labels)\n",
        "            losses.append(loss)\n",
        "            if log_every and step % log_every == 0:\n",
        "                print(f\"step {step} loss = {loss:0.6g}\")\n",
        "        self.guide = [guide]  # cannot save as attribute\n",
        "        return losses\n",
        "\n",
        "    @torch.no_grad()\n",
        "    def predict_logits(self, features):\n",
        "        with poutine.condition(data=self.guide[0]()):\n",
        "            return self.mlp(features).squeeze(-1)"
      ],
      "execution_count": null,
      "outputs": []
    },
    {
      "cell_type": "markdown",
      "metadata": {
        "id": "58LnaqXvDB0M"
      },
      "source": [
        "### Sanity check the model architecture on full data\n",
        "You wouldn't be able to validate predictive performance on real data since you wouldn't yet have ground truth labels. However architecture choice should probably transfer well across datasets, so you could determine model architecture based on a previous experiment and use that same architecture in a new experiment."
      ]
    },
    {
      "cell_type": "code",
      "metadata": {
        "colab": {
          "base_uri": "https://localhost:8080/",
          "height": 392
        },
        "id": "Ppn-64SI-QGR",
        "outputId": "d7fcce49-228a-4660-ff12-fad8ec2c1649"
      },
      "source": [
        "%%time\n",
        "model = GreedyMLP()\n",
        "losses = model.fit(features, true_labels, num_steps=1001, log_every=100)"
      ],
      "execution_count": null,
      "outputs": [
        {
          "output_type": "error",
          "ename": "NameError",
          "evalue": "ignored",
          "traceback": [
            "\u001b[0;31m---------------------------------------------------------------------------\u001b[0m",
            "\u001b[0;31mNameError\u001b[0m                                 Traceback (most recent call last)",
            "\u001b[0;32m<ipython-input-23-4357a9653d1c>\u001b[0m in \u001b[0;36m<module>\u001b[0;34m()\u001b[0m\n\u001b[0;32m----> 1\u001b[0;31m \u001b[0mget_ipython\u001b[0m\u001b[0;34m(\u001b[0m\u001b[0;34m)\u001b[0m\u001b[0;34m.\u001b[0m\u001b[0mrun_cell_magic\u001b[0m\u001b[0;34m(\u001b[0m\u001b[0;34m'time'\u001b[0m\u001b[0;34m,\u001b[0m \u001b[0;34m''\u001b[0m\u001b[0;34m,\u001b[0m \u001b[0;34m'model = GreedyMLP()\\nlosses = model.fit(features, true_labels, num_steps=1001, log_every=100)'\u001b[0m\u001b[0;34m)\u001b[0m\u001b[0;34m\u001b[0m\u001b[0;34m\u001b[0m\u001b[0m\n\u001b[0m",
            "\u001b[0;32m/usr/local/lib/python3.7/dist-packages/IPython/core/interactiveshell.py\u001b[0m in \u001b[0;36mrun_cell_magic\u001b[0;34m(self, magic_name, line, cell)\u001b[0m\n\u001b[1;32m   2115\u001b[0m             \u001b[0mmagic_arg_s\u001b[0m \u001b[0;34m=\u001b[0m \u001b[0mself\u001b[0m\u001b[0;34m.\u001b[0m\u001b[0mvar_expand\u001b[0m\u001b[0;34m(\u001b[0m\u001b[0mline\u001b[0m\u001b[0;34m,\u001b[0m \u001b[0mstack_depth\u001b[0m\u001b[0;34m)\u001b[0m\u001b[0;34m\u001b[0m\u001b[0;34m\u001b[0m\u001b[0m\n\u001b[1;32m   2116\u001b[0m             \u001b[0;32mwith\u001b[0m \u001b[0mself\u001b[0m\u001b[0;34m.\u001b[0m\u001b[0mbuiltin_trap\u001b[0m\u001b[0;34m:\u001b[0m\u001b[0;34m\u001b[0m\u001b[0;34m\u001b[0m\u001b[0m\n\u001b[0;32m-> 2117\u001b[0;31m                 \u001b[0mresult\u001b[0m \u001b[0;34m=\u001b[0m \u001b[0mfn\u001b[0m\u001b[0;34m(\u001b[0m\u001b[0mmagic_arg_s\u001b[0m\u001b[0;34m,\u001b[0m \u001b[0mcell\u001b[0m\u001b[0;34m)\u001b[0m\u001b[0;34m\u001b[0m\u001b[0;34m\u001b[0m\u001b[0m\n\u001b[0m\u001b[1;32m   2118\u001b[0m             \u001b[0;32mreturn\u001b[0m \u001b[0mresult\u001b[0m\u001b[0;34m\u001b[0m\u001b[0;34m\u001b[0m\u001b[0m\n\u001b[1;32m   2119\u001b[0m \u001b[0;34m\u001b[0m\u001b[0m\n",
            "\u001b[0;32m<decorator-gen-53>\u001b[0m in \u001b[0;36mtime\u001b[0;34m(self, line, cell, local_ns)\u001b[0m\n",
            "\u001b[0;32m/usr/local/lib/python3.7/dist-packages/IPython/core/magic.py\u001b[0m in \u001b[0;36m<lambda>\u001b[0;34m(f, *a, **k)\u001b[0m\n\u001b[1;32m    186\u001b[0m     \u001b[0;31m# but it's overkill for just that one bit of state.\u001b[0m\u001b[0;34m\u001b[0m\u001b[0;34m\u001b[0m\u001b[0;34m\u001b[0m\u001b[0m\n\u001b[1;32m    187\u001b[0m     \u001b[0;32mdef\u001b[0m \u001b[0mmagic_deco\u001b[0m\u001b[0;34m(\u001b[0m\u001b[0marg\u001b[0m\u001b[0;34m)\u001b[0m\u001b[0;34m:\u001b[0m\u001b[0;34m\u001b[0m\u001b[0;34m\u001b[0m\u001b[0m\n\u001b[0;32m--> 188\u001b[0;31m         \u001b[0mcall\u001b[0m \u001b[0;34m=\u001b[0m \u001b[0;32mlambda\u001b[0m \u001b[0mf\u001b[0m\u001b[0;34m,\u001b[0m \u001b[0;34m*\u001b[0m\u001b[0ma\u001b[0m\u001b[0;34m,\u001b[0m \u001b[0;34m**\u001b[0m\u001b[0mk\u001b[0m\u001b[0;34m:\u001b[0m \u001b[0mf\u001b[0m\u001b[0;34m(\u001b[0m\u001b[0;34m*\u001b[0m\u001b[0ma\u001b[0m\u001b[0;34m,\u001b[0m \u001b[0;34m**\u001b[0m\u001b[0mk\u001b[0m\u001b[0;34m)\u001b[0m\u001b[0;34m\u001b[0m\u001b[0;34m\u001b[0m\u001b[0m\n\u001b[0m\u001b[1;32m    189\u001b[0m \u001b[0;34m\u001b[0m\u001b[0m\n\u001b[1;32m    190\u001b[0m         \u001b[0;32mif\u001b[0m \u001b[0mcallable\u001b[0m\u001b[0;34m(\u001b[0m\u001b[0marg\u001b[0m\u001b[0;34m)\u001b[0m\u001b[0;34m:\u001b[0m\u001b[0;34m\u001b[0m\u001b[0;34m\u001b[0m\u001b[0m\n",
            "\u001b[0;32m/usr/local/lib/python3.7/dist-packages/IPython/core/magics/execution.py\u001b[0m in \u001b[0;36mtime\u001b[0;34m(self, line, cell, local_ns)\u001b[0m\n\u001b[1;32m   1191\u001b[0m         \u001b[0;32melse\u001b[0m\u001b[0;34m:\u001b[0m\u001b[0;34m\u001b[0m\u001b[0;34m\u001b[0m\u001b[0m\n\u001b[1;32m   1192\u001b[0m             \u001b[0mst\u001b[0m \u001b[0;34m=\u001b[0m \u001b[0mclock2\u001b[0m\u001b[0;34m(\u001b[0m\u001b[0;34m)\u001b[0m\u001b[0;34m\u001b[0m\u001b[0;34m\u001b[0m\u001b[0m\n\u001b[0;32m-> 1193\u001b[0;31m             \u001b[0mexec\u001b[0m\u001b[0;34m(\u001b[0m\u001b[0mcode\u001b[0m\u001b[0;34m,\u001b[0m \u001b[0mglob\u001b[0m\u001b[0;34m,\u001b[0m \u001b[0mlocal_ns\u001b[0m\u001b[0;34m)\u001b[0m\u001b[0;34m\u001b[0m\u001b[0;34m\u001b[0m\u001b[0m\n\u001b[0m\u001b[1;32m   1194\u001b[0m             \u001b[0mend\u001b[0m \u001b[0;34m=\u001b[0m \u001b[0mclock2\u001b[0m\u001b[0;34m(\u001b[0m\u001b[0;34m)\u001b[0m\u001b[0;34m\u001b[0m\u001b[0;34m\u001b[0m\u001b[0m\n\u001b[1;32m   1195\u001b[0m             \u001b[0mout\u001b[0m \u001b[0;34m=\u001b[0m \u001b[0;32mNone\u001b[0m\u001b[0;34m\u001b[0m\u001b[0;34m\u001b[0m\u001b[0m\n",
            "\u001b[0;32m<timed exec>\u001b[0m in \u001b[0;36m<module>\u001b[0;34m()\u001b[0m\n",
            "\u001b[0;32m<ipython-input-21-d1ac31d29d02>\u001b[0m in \u001b[0;36mfit\u001b[0;34m(self, features, labels, lr, num_steps, log_every, batch_size)\u001b[0m\n\u001b[1;32m     21\u001b[0m         \u001b[0mpyro\u001b[0m\u001b[0;34m.\u001b[0m\u001b[0mclear_param_store\u001b[0m\u001b[0;34m(\u001b[0m\u001b[0;34m)\u001b[0m\u001b[0;34m\u001b[0m\u001b[0;34m\u001b[0m\u001b[0m\n\u001b[1;32m     22\u001b[0m         \u001b[0moptim\u001b[0m \u001b[0;34m=\u001b[0m \u001b[0mClippedAdam\u001b[0m\u001b[0;34m(\u001b[0m\u001b[0;34m{\u001b[0m\u001b[0;34m\"lr\"\u001b[0m\u001b[0;34m:\u001b[0m \u001b[0mlr\u001b[0m\u001b[0;34m,\u001b[0m \u001b[0;34m\"lrd\"\u001b[0m\u001b[0;34m:\u001b[0m \u001b[0;36m0.1\u001b[0m \u001b[0;34m**\u001b[0m \u001b[0;34m(\u001b[0m\u001b[0;36m1\u001b[0m \u001b[0;34m/\u001b[0m \u001b[0mnum_steps\u001b[0m\u001b[0;34m)\u001b[0m\u001b[0;34m}\u001b[0m\u001b[0;34m)\u001b[0m\u001b[0;34m\u001b[0m\u001b[0;34m\u001b[0m\u001b[0m\n\u001b[0;32m---> 23\u001b[0;31m         \u001b[0melbo\u001b[0m \u001b[0;34m=\u001b[0m \u001b[0mJitTrace_ELBO\u001b[0m\u001b[0;34m(\u001b[0m\u001b[0mignore_jit_warnings\u001b[0m\u001b[0;34m=\u001b[0m\u001b[0;32mTrue\u001b[0m\u001b[0;34m)\u001b[0m\u001b[0;34m\u001b[0m\u001b[0;34m\u001b[0m\u001b[0m\n\u001b[0m\u001b[1;32m     24\u001b[0m         \u001b[0msvi\u001b[0m \u001b[0;34m=\u001b[0m \u001b[0mSVI\u001b[0m\u001b[0;34m(\u001b[0m\u001b[0mself\u001b[0m\u001b[0;34m,\u001b[0m \u001b[0mguide\u001b[0m\u001b[0;34m,\u001b[0m \u001b[0moptim\u001b[0m\u001b[0;34m,\u001b[0m \u001b[0melbo\u001b[0m\u001b[0;34m)\u001b[0m\u001b[0;34m\u001b[0m\u001b[0;34m\u001b[0m\u001b[0m\n\u001b[1;32m     25\u001b[0m         \u001b[0mlosses\u001b[0m \u001b[0;34m=\u001b[0m \u001b[0;34m[\u001b[0m\u001b[0;34m]\u001b[0m\u001b[0;34m\u001b[0m\u001b[0;34m\u001b[0m\u001b[0m\n",
            "\u001b[0;31mNameError\u001b[0m: name 'JitTrace_ELBO' is not defined"
          ]
        }
      ]
    },
    {
      "cell_type": "code",
      "metadata": {
        "colab": {
          "base_uri": "https://localhost:8080/",
          "height": 279
        },
        "id": "hXFSRJuUEPI4",
        "outputId": "2ef6609a-89ad-4aa9-cc6b-ece431cc6925"
      },
      "source": [
        "plt.plot(losses)\n",
        "plt.xlabel(\"Learning step\")\n",
        "plt.ylabel(\"loss\");"
      ],
      "execution_count": null,
      "outputs": [
        {
          "output_type": "display_data",
          "data": {
            "image/png": "[encoded data removed]",
            "text/plain": [
              "<Figure size 432x288 with 1 Axes>"
            ]
          },
          "metadata": {
            "needs_background": "light"
          }
        }
      ]
    },
    {
      "cell_type": "code",
      "metadata": {
        "colab": {
          "base_uri": "https://localhost:8080/"
        },
        "id": "YEeMOsVvQ8k9",
        "outputId": "b0d0cbd2-8cfc-418e-e67c-a8ba51b2fffe"
      },
      "source": [
        "%%time\n",
        "model = ExploratoryMLP()\n",
        "losses = model.fit(features, true_labels, num_steps=1001, log_every=100)"
      ],
      "execution_count": null,
      "outputs": [
        {
          "output_type": "stream",
          "name": "stdout",
          "text": [
            "step 0 loss = 0.593856\n",
            "step 100 loss = 0.246935\n",
            "step 200 loss = 0.205003\n",
            "step 300 loss = 0.205676\n",
            "step 400 loss = 0.132336\n",
            "step 500 loss = 0.0726226\n",
            "step 600 loss = 0.0943233\n",
            "step 700 loss = 0.0569914\n",
            "step 800 loss = 0.119287\n",
            "step 900 loss = 0.108528\n",
            "step 1000 loss = 0.123031\n",
            "step 0 loss = 0.180278\n",
            "step 100 loss = 0.0891203\n",
            "step 200 loss = 0.141001\n",
            "step 300 loss = 0.0724814\n",
            "step 400 loss = 0.0371148\n",
            "step 500 loss = 0.222037\n",
            "step 600 loss = 0.120758\n",
            "step 700 loss = 0.039288\n",
            "step 800 loss = 0.0629113\n",
            "step 900 loss = 0.148381\n",
            "step 1000 loss = 0.037696\n",
            "CPU times: user 17.1 s, sys: 185 ms, total: 17.3 s\n",
            "Wall time: 17.4 s\n"
          ]
        }
      ]
    },
    {
      "cell_type": "code",
      "metadata": {
        "colab": {
          "base_uri": "https://localhost:8080/",
          "height": 279
        },
        "id": "R2Xv2gDmQ_Mk",
        "outputId": "6eae8701-e2ff-4c7b-cb56-78e40064ef3e"
      },
      "source": [
        "plt.plot(losses)\n",
        "plt.xlabel(\"Learning step\")\n",
        "plt.ylabel(\"loss\");"
      ],
      "execution_count": null,
      "outputs": [
        {
          "output_type": "display_data",
          "data": {
            "image/png": "[encoded data removed]",
            "text/plain": [
              "<Figure size 432x288 with 1 Axes>"
            ]
          },
          "metadata": {
            "needs_background": "light"
          }
        }
      ]
    },
    {
      "cell_type": "markdown",
      "metadata": {
        "id": "9fAW3--VvC1-"
      },
      "source": [
        "### What happens at each step of active learning?"
      ]
    },
    {
      "cell_type": "code",
      "metadata": {
        "id": "XX7-GZi6JdJ8"
      },
      "source": [
        "def active_learning_step(\n",
        "    batches, *,\n",
        "    batch_size=1000,\n",
        "    thompson_batch_size=None,\n",
        "    measure_labels=reveal_labels,  # You could replace this with email_your_labmate.\n",
        "    Model=RandomModel,\n",
        "    num_steps=10001,\n",
        "    log_every=1000,\n",
        "):\n",
        "    # Fit a model on previously observed molecules.\n",
        "    past_features = torch.cat([b[\"features\"] for b in batches])\n",
        "    past_labels = torch.cat([b[\"labels\"] for b in batches])\n",
        "    past_ids = torch.cat([b[\"ids\"] for b in batches])\n",
        "    model = Model()\n",
        "    model.fit(past_features, past_labels, num_steps=num_steps, log_every=log_every)\n",
        "\n",
        "    # Pick the most promising molecules for the next batch.\n",
        "    past_id_set = set(past_ids.tolist())  # Avoid re-measuring molecules.\n",
        "    future_id_set = set(range(len(features))) - past_id_set\n",
        "    if thompson_batch_size is None:\n",
        "        # This is the simple greedy workflow.\n",
        "        future_ids = torch.tensor(sorted(future_id_set))\n",
        "        future_logits = model.predict_logits(features[future_ids])\n",
        "        batch_ids = future_ids[future_logits.topk(batch_size, dim=0).indices]\n",
        "    else:\n",
        "        # This is the more complex exploratory workflow.\n",
        "        batch_id_set = set()\n",
        "        while len(batch_id_set) < batch_size:\n",
        "            future_ids = torch.tensor(sorted(future_id_set))\n",
        "            future_logits = model.predict_logits(features[future_ids])\n",
        "            future_ids = future_ids[future_logits.sort(0).indices]\n",
        "            future_ids = [i for i in future_ids.tolist() if i not in batch_id_set]\n",
        "            batch_id_set.update(future_ids[:thompson_batch_size])\n",
        "            future_id_set -= batch_id_set\n",
        "            print(\".\", end=\"\", flush=True)\n",
        "        batch_ids = torch.tensor(sorted(batch_id_set))\n",
        "\n",
        "    batch = {}\n",
        "    batch[\"ids\"] = batch_ids\n",
        "    batch[\"features\"] = features[batch[\"ids\"]]\n",
        "    batch[\"labels\"] = measure_labels(batch[\"ids\"])\n",
        "    batches.append(batch)\n",
        "\n",
        "    # Evaluate active learning performance.\n",
        "    num_positives = sum(int(b[\"labels\"].sum()) for b in batches)\n",
        "    return num_positives"
      ],
      "execution_count": null,
      "outputs": []
    },
    {
      "cell_type": "code",
      "metadata": {
        "colab": {
          "base_uri": "https://localhost:8080/"
        },
        "id": "Go9hoeQ5briu",
        "outputId": "30757e44-c6c6-4201-b08a-2115510e372c"
      },
      "source": [
        "%%time\n",
        "batches = [initial_batch]\n",
        "active_learning_step(batches, Model=RandomModel)"
      ],
      "execution_count": null,
      "outputs": [
        {
          "output_type": "stream",
          "name": "stdout",
          "text": [
            "CPU times: user 52.1 ms, sys: 49.4 ms, total: 102 ms\n",
            "Wall time: 32.8 ms\n"
          ]
        },
        {
          "output_type": "execute_result",
          "data": {
            "text/plain": [
              "658"
            ]
          },
          "metadata": {},
          "execution_count": 41
        }
      ]
    },
    {
      "cell_type": "code",
      "metadata": {
        "colab": {
          "base_uri": "https://localhost:8080/"
        },
        "id": "T7_4czO8Ldxc",
        "outputId": "ae1c6167-1a92-47b7-d12d-d87b0d56bec5"
      },
      "source": [
        "%%time\n",
        "batches = [initial_batch]\n",
        "active_learning_step(batches, Model=GreedyMLP)"
      ],
      "execution_count": null,
      "outputs": [
        {
          "output_type": "stream",
          "name": "stdout",
          "text": [
            "step 0 loss = 0.685415\n",
            "step 1000 loss = 0.000181537\n",
            "step 2000 loss = 5.47972e-05\n",
            "step 3000 loss = 1.81744e-05\n",
            "step 4000 loss = 1.61131e-05\n",
            "step 5000 loss = 1.14065e-05\n",
            "step 6000 loss = 4.67514e-06\n",
            "step 7000 loss = 5.26189e-06\n",
            "step 8000 loss = 2.05448e-06\n",
            "step 9000 loss = 2.35251e-06\n",
            "step 10000 loss = 1.43982e-06\n",
            "CPU times: user 20.7 s, sys: 3.46 s, total: 24.2 s\n",
            "Wall time: 19 s\n"
          ]
        },
        {
          "output_type": "execute_result",
          "data": {
            "text/plain": [
              "1246"
            ]
          },
          "metadata": {},
          "execution_count": 42
        }
      ]
    },
    {
      "cell_type": "code",
      "metadata": {
        "colab": {
          "base_uri": "https://localhost:8080/"
        },
        "id": "_1pq4pZhypj8",
        "outputId": "07320c9d-715b-4ca8-82ba-079e4e081b2d"
      },
      "source": [
        "%%time\n",
        "batches = [initial_batch]\n",
        "active_learning_step(batches, Model=ExploratoryMLP, thompson_batch_size=100)"
      ],
      "execution_count": null,
      "outputs": [
        {
          "output_type": "stream",
          "name": "stdout",
          "text": [
            "step 0 loss = 0.691863\n",
            "step 1000 loss = 0.000298541\n",
            "step 2000 loss = 6.09516e-05\n",
            "step 3000 loss = 1.98687e-05\n",
            "step 4000 loss = 8.6685e-06\n",
            "step 5000 loss = 1.37028e-05\n",
            "step 6000 loss = 5.65487e-06\n",
            "step 7000 loss = 4.45535e-06\n",
            "step 8000 loss = 3.56508e-06\n",
            "step 9000 loss = 2.5369e-06\n",
            "step 10000 loss = 1.41374e-06\n",
            "step 0 loss = 0.56052\n",
            "step 1000 loss = 0.0231718\n",
            "step 2000 loss = 0.00932072\n",
            "step 3000 loss = 0.000910537\n",
            "step 4000 loss = 0.00437164\n",
            "step 5000 loss = 0.00404022\n",
            "step 6000 loss = 0.00203424\n",
            "step 7000 loss = 0.00299772\n",
            "step 8000 loss = -0.000559902\n",
            "step 9000 loss = 0.000567499\n",
            "step 10000 loss = -0.0029893\n",
            "..........CPU times: user 1min 8s, sys: 7.33 s, total: 1min 15s\n",
            "Wall time: 1min 2s\n"
          ]
        },
        {
          "output_type": "execute_result",
          "data": {
            "text/plain": [
              "337"
            ]
          },
          "metadata": {},
          "execution_count": 19
        }
      ]
    },
    {
      "cell_type": "code",
      "metadata": {
        "id": "c6J-mfIZy-F4"
      },
      "source": [
        "def active_learn(\n",
        "    Model=RandomModel,\n",
        "    batch_size=1000,\n",
        "    num_batches=None,\n",
        "    thompson_batch_size=None,\n",
        "    log_every=0,\n",
        "):\n",
        "    # Create an initial batch.\n",
        "    batch = {}\n",
        "    batch[\"ids\"] = torch.arange(batch_size)  # arbitrarily pick the first molecules\n",
        "    batch[\"features\"] = features[batch[\"ids\"]]\n",
        "    batch[\"labels\"] = reveal_labels(batch[\"ids\"])\n",
        "    batches = [batch]\n",
        "    num_positives = sum(int(b[\"labels\"].sum()) for b in batches)\n",
        "    print(f\"Found {num_positives} positives\")\n",
        "\n",
        "    # Run active learning until all molecules are measured.\n",
        "    for i in range(1, num_batches):\n",
        "        active_learning_step(\n",
        "            batches, batch_size=batch_size, Model=Model,\n",
        "            thompson_batch_size=thompson_batch_size, log_every=log_every,\n",
        "        )\n",
        "        num_positives = sum(int(b[\"labels\"].sum()) for b in batches)\n",
        "        print(f\"Found {num_positives} positives\")\n",
        "    return batches"
      ],
      "execution_count": null,
      "outputs": []
    },
    {
      "cell_type": "code",
      "metadata": {
        "colab": {
          "base_uri": "https://localhost:8080/"
        },
        "id": "W3a7tTxfnbfd",
        "outputId": "11d358b9-b620-4f25-e926-4e9dcedad064"
      },
      "source": [
        "random_batches = active_learn(RandomModel, batch_size=1000, num_batches=15)"
      ],
      "execution_count": null,
      "outputs": [
        {
          "output_type": "stream",
          "name": "stdout",
          "text": [
            "Found 335 positives\n",
            "Found 662 positives\n",
            "Found 999 positives\n",
            "Found 1327 positives\n",
            "Found 1666 positives\n",
            "Found 2006 positives\n",
            "Found 2324 positives\n",
            "Found 2648 positives\n",
            "Found 2999 positives\n",
            "Found 3347 positives\n",
            "Found 3689 positives\n",
            "Found 4004 positives\n",
            "Found 4344 positives\n",
            "Found 4653 positives\n",
            "Found 5000 positives\n"
          ]
        }
      ]
    },
    {
      "cell_type": "code",
      "metadata": {
        "colab": {
          "base_uri": "https://localhost:8080/"
        },
        "id": "sWwa-2y-JiWt",
        "outputId": "ae1dffca-2fbc-44a0-9b47-1549d7e8e305"
      },
      "source": [
        "%%time\n",
        "greedy_batches = active_learn(GreedyMLP, batch_size=1000, num_batches=15)"
      ],
      "execution_count": null,
      "outputs": [
        {
          "output_type": "stream",
          "name": "stdout",
          "text": [
            "Found 335 positives\n",
            "Found 1249 positives\n",
            "Found 2181 positives\n",
            "Found 3087 positives\n",
            "Found 3846 positives\n",
            "Found 4378 positives\n",
            "Found 4728 positives\n",
            "Found 4899 positives\n",
            "Found 4967 positives\n",
            "Found 4987 positives\n",
            "Found 4991 positives\n",
            "Found 5000 positives\n",
            "Found 5000 positives\n",
            "Found 5000 positives\n",
            "Found 5000 positives\n",
            "CPU times: user 4min 46s, sys: 46.6 s, total: 5min 33s\n",
            "Wall time: 4min 17s\n"
          ]
        }
      ]
    },
    {
      "cell_type": "code",
      "metadata": {
        "colab": {
          "base_uri": "https://localhost:8080/"
        },
        "id": "PlzUjYzVL0QH",
        "outputId": "fc7c037f-33ec-4fd4-84dd-63e3e8736cf6"
      },
      "source": [
        "%%time\n",
        "exploratory_batches = active_learn(ExploratoryMLP, batch_size=1000, num_batches=15)"
      ],
      "execution_count": null,
      "outputs": [
        {
          "output_type": "stream",
          "name": "stdout",
          "text": [
            "Found 335 positives\n",
            "Found 1228 positives\n",
            "Found 2149 positives\n",
            "Found 3048 positives\n",
            "Found 3828 positives\n",
            "Found 4400 positives\n",
            "Found 4724 positives\n",
            "Found 4898 positives\n",
            "Found 4961 positives\n",
            "Found 4987 positives\n",
            "Found 4992 positives\n",
            "Found 4999 positives\n",
            "Found 5000 positives\n",
            "Found 5000 positives\n",
            "Found 5000 positives\n",
            "CPU times: user 12min 35s, sys: 1min 35s, total: 14min 11s\n",
            "Wall time: 11min 28s\n"
          ]
        }
      ]
    },
    {
      "cell_type": "code",
      "metadata": {
        "id": "9sNbVmrYcoYU"
      },
      "source": [
        "def plot_comparisons(**labeled_batches):\n",
        "    for label, batches in labeled_batches.items():\n",
        "        X = [0]\n",
        "        Y = [0]\n",
        "        for batch in batches:\n",
        "            X.append(X[-1] + len(batch[\"labels\"]))\n",
        "            Y.append(Y[-1] + int(batch[\"labels\"].sum()))\n",
        "        plt.plot(X, Y, label=label)\n",
        "    plt.xlabel(\"# molecules tested\")\n",
        "    plt.ylabel(\"# positive hits\")\n",
        "    plt.legend(loc=\"best\")"
      ],
      "execution_count": null,
      "outputs": []
    },
    {
      "cell_type": "code",
      "metadata": {
        "colab": {
          "base_uri": "https://localhost:8080/",
          "height": 449
        },
        "id": "1ZCf6T73Quz3",
        "outputId": "a865d0d9-6140-4051-a7de-a364bb17a317"
      },
      "source": [
        "plot_comparisons(\n",
        "    random=random_batches,\n",
        "    greedy=greedy_batches,\n",
        "    exploratory=exploratory_batches,\n",
        ")"
      ],
      "execution_count": null,
      "outputs": [
        {
          "output_type": "display_data",
          "data": {
            "text/plain": [
              "<Figure size 640x480 with 1 Axes>"
            ],
            "image/png": "[encoded data removed]"
          },
          "metadata": {}
        }
      ]
    },
    {
      "cell_type": "markdown",
      "metadata": {
        "id": "ItmpEieUvwOy"
      },
      "source": [
        "## Load Data set #2"
      ]
    },
    {
      "cell_type": "code",
      "metadata": {
        "id": "F3jqGzhqWkIQ"
      },
      "source": [
        "# Download files from Google Drive to the notebook runtime.\n",
        "filename_to_id = {\n",
        "    \"df197k_inactive_fingerprints.csv\": \"1PYbyVkCRMHF-dO_l32zb4g4g0Ln6srzF\",\n",
        "    \"df417_active_fingerprints.csv\": \"1JY81_rwtJXcjQh4SyOJ6PQ6Xc033Egv5\",\n",
        "    \"df78_active_fingerprints.csv\": \"1xgaMbvfQDjTxuOr7_uqsvQeNG0N6OIvo\",\n",
        "}\n",
        "for filename, drive_id in filename_to_id.items():\n",
        "    drive.CreateFile({\"id\": drive_id}).GetContentFile(filename)"
      ],
      "execution_count": null,
      "outputs": []
    },
    {
      "cell_type": "code",
      "metadata": {
        "id": "oNG56UgTz9WO"
      },
      "source": [
        "import pandas as pd\n",
        "inactive_df = pd.read_csv(\"df197k_inactive_fingerprints.csv\", header=0)\n",
        "active_tested_df = pd.read_csv(\"df417_active_fingerprints.csv\", header=0)\n",
        "active_known_df = pd.read_csv(\"df78_active_fingerprints.csv\", header=0)"
      ],
      "execution_count": null,
      "outputs": []
    },
    {
      "cell_type": "code",
      "metadata": {
        "colab": {
          "base_uri": "https://localhost:8080/",
          "height": 745
        },
        "id": "2uERhOc70pz-",
        "outputId": "83a74db0-620f-4261-b8b4-2a85382a54a4"
      },
      "source": [
        "inactive_df"
      ],
      "execution_count": null,
      "outputs": [
        {
          "output_type": "execute_result",
          "data": {
            "text/plain": [
              "                               Name  \\\n",
              "0       BIOA-BRD-K77793136-003-02-2   \n",
              "1       BIOA-BRD-K45296539-003-01-0   \n",
              "2       BIOA-BRD-K05528470-305-01-4   \n",
              "3       BIOA-BRD-K41143549-003-01-6   \n",
              "4       BIOA-BRD-K00312224-001-03-8   \n",
              "...                             ...   \n",
              "197392                   Z872348088   \n",
              "197393       BRD-K59310169-001-09-6   \n",
              "197394       BRD-K00063208-001-01-9   \n",
              "197395       BRD-K97010173-001-06-9   \n",
              "197396       BRD-K12040459-001-06-0   \n",
              "\n",
              "                                                   SMILES ROUND1 ROUND2  \\\n",
              "0                O=C1NC=Cc2c1cccc2S(=O)(=O)N1CCC[NH2+]CC1      -      -   \n",
              "1       COCCNC(=O)COc1ccc(cc1)OCC[NH2+]C[C@@H](O)COc1c...      -      -   \n",
              "2            Clc1ccc(cc1)N1CC[NH+](CC1)CC1=CN=C2NC=CC=C12      -      -   \n",
              "3                      NC(=O)C[NH2+]CCC(c1ccccc1)c1ccccc1      -      -   \n",
              "4       CCCc1c(nn(c1-c1ccc(cc1)O)-c1ccc(cc1)O)-c1ccc(c...      -      -   \n",
              "...                                                   ...    ...    ...   \n",
              "197392          CN(C)c1ccc2cc(ccc2n1)NC(=O)c1cccc2cccnc12      -      -   \n",
              "197393              COc1ccc(c(c1)O)-c1cn[nH]c1-c1ccccc1OC      -      -   \n",
              "197394           CN(C)c1nc2c(s1)CN(CC2)c1ccc(cn1)C(F)(F)F      -      -   \n",
              "197395  Oc1ccccc1-c1nc(n(n1)-c1ccc(cc1)C(=O)[O-])-c1cc...      -      -   \n",
              "197396  Clc1ccc(cc1)[C@]1(CC[NH2+]CC1)c1ccc(cc1)-c1cn[...      -      -   \n",
              "\n",
              "       ROUND3 ROUND4  bit0  bit1  bit2  bit3  ...  bit1014  bit1015  bit1016  \\\n",
              "0           -      -     0     0     1     0  ...        0        0        0   \n",
              "1           -      -     0     1     0     0  ...        1        0        0   \n",
              "2           -      -     0     0     0     0  ...        0        0        0   \n",
              "3           -      -     0     1     0     0  ...        0        0        0   \n",
              "4           -      -     0     0     0     0  ...        0        0        0   \n",
              "...       ...    ...   ...   ...   ...   ...  ...      ...      ...      ...   \n",
              "197392      -      -     0     0     0     0  ...        0        0        0   \n",
              "197393      -      -     0     0     0     0  ...        0        0        0   \n",
              "197394      -      -     0     0     0     0  ...        0        0        0   \n",
              "197395      -      -     0     0     0     0  ...        0        0        0   \n",
              "197396      -      -     0     0     0     0  ...        0        0        0   \n",
              "\n",
              "        bit1017  bit1018  bit1019  bit1020  bit1021  bit1022  bit1023  \n",
              "0             0        0        0        0        0        0        0  \n",
              "1             0        0        0        0        0        0        0  \n",
              "2             0        0        0        0        0        0        0  \n",
              "3             0        0        0        0        0        0        0  \n",
              "4             0        0        0        0        0        0        0  \n",
              "...         ...      ...      ...      ...      ...      ...      ...  \n",
              "197392        0        0        0        0        0        0        0  \n",
              "197393        0        0        0        0        0        0        0  \n",
              "197394        0        0        0        0        0        0        0  \n",
              "197395        0        0        0        0        0        0        0  \n",
              "197396        0        0        0        0        0        0        0  \n",
              "\n",
              "[197397 rows x 1030 columns]"
            ],
            "text/html": [
              "<div>\n",
              "<style scoped>\n",
              "    .dataframe tbody tr th:only-of-type {\n",
              "        vertical-align: middle;\n",
              "    }\n",
              "\n",
              "    .dataframe tbody tr th {\n",
              "        vertical-align: top;\n",
              "    }\n",
              "\n",
              "    .dataframe thead th {\n",
              "        text-align: right;\n",
              "    }\n",
              "</style>\n",
              "<table border=\"1\" class=\"dataframe\">\n",
              "  <thead>\n",
              "    <tr style=\"text-align: right;\">\n",
              "      <th></th>\n",
              "      <th>Name</th>\n",
              "      <th>SMILES</th>\n",
              "      <th>ROUND1</th>\n",
              "      <th>ROUND2</th>\n",
              "      <th>ROUND3</th>\n",
              "      <th>ROUND4</th>\n",
              "      <th>bit0</th>\n",
              "      <th>bit1</th>\n",
              "      <th>bit2</th>\n",
              "      <th>bit3</th>\n",
              "      <th>...</th>\n",
              "      <th>bit1014</th>\n",
              "      <th>bit1015</th>\n",
              "      <th>bit1016</th>\n",
              "      <th>bit1017</th>\n",
              "      <th>bit1018</th>\n",
              "      <th>bit1019</th>\n",
              "      <th>bit1020</th>\n",
              "      <th>bit1021</th>\n",
              "      <th>bit1022</th>\n",
              "      <th>bit1023</th>\n",
              "    </tr>\n",
              "  </thead>\n",
              "  <tbody>\n",
              "    <tr>\n",
              "      <th>0</th>\n",
              "      <td>BIOA-BRD-K77793136-003-02-2</td>\n",
              "      <td>O=C1NC=Cc2c1cccc2S(=O)(=O)N1CCC[NH2+]CC1</td>\n",
              "      <td>-</td>\n",
              "      <td>-</td>\n",
              "      <td>-</td>\n",
              "      <td>-</td>\n",
              "      <td>0</td>\n",
              "      <td>0</td>\n",
              "      <td>1</td>\n",
              "      <td>0</td>\n",
              "      <td>...</td>\n",
              "      <td>0</td>\n",
              "      <td>0</td>\n",
              "      <td>0</td>\n",
              "      <td>0</td>\n",
              "      <td>0</td>\n",
              "      <td>0</td>\n",
              "      <td>0</td>\n",
              "      <td>0</td>\n",
              "      <td>0</td>\n",
              "      <td>0</td>\n",
              "    </tr>\n",
              "    <tr>\n",
              "      <th>1</th>\n",
              "      <td>BIOA-BRD-K45296539-003-01-0</td>\n",
              "      <td>COCCNC(=O)COc1ccc(cc1)OCC[NH2+]C[C@@H](O)COc1c...</td>\n",
              "      <td>-</td>\n",
              "      <td>-</td>\n",
              "      <td>-</td>\n",
              "      <td>-</td>\n",
              "      <td>0</td>\n",
              "      <td>1</td>\n",
              "      <td>0</td>\n",
              "      <td>0</td>\n",
              "      <td>...</td>\n",
              "      <td>1</td>\n",
              "      <td>0</td>\n",
              "      <td>0</td>\n",
              "      <td>0</td>\n",
              "      <td>0</td>\n",
              "      <td>0</td>\n",
              "      <td>0</td>\n",
              "      <td>0</td>\n",
              "      <td>0</td>\n",
              "      <td>0</td>\n",
              "    </tr>\n",
              "    <tr>\n",
              "      <th>2</th>\n",
              "      <td>BIOA-BRD-K05528470-305-01-4</td>\n",
              "      <td>Clc1ccc(cc1)N1CC[NH+](CC1)CC1=CN=C2NC=CC=C12</td>\n",
              "      <td>-</td>\n",
              "      <td>-</td>\n",
              "      <td>-</td>\n",
              "      <td>-</td>\n",
              "      <td>0</td>\n",
              "      <td>0</td>\n",
              "      <td>0</td>\n",
              "      <td>0</td>\n",
              "      <td>...</td>\n",
              "      <td>0</td>\n",
              "      <td>0</td>\n",
              "      <td>0</td>\n",
              "      <td>0</td>\n",
              "      <td>0</td>\n",
              "      <td>0</td>\n",
              "      <td>0</td>\n",
              "      <td>0</td>\n",
              "      <td>0</td>\n",
              "      <td>0</td>\n",
              "    </tr>\n",
              "    <tr>\n",
              "      <th>3</th>\n",
              "      <td>BIOA-BRD-K41143549-003-01-6</td>\n",
              "      <td>NC(=O)C[NH2+]CCC(c1ccccc1)c1ccccc1</td>\n",
              "      <td>-</td>\n",
              "      <td>-</td>\n",
              "      <td>-</td>\n",
              "      <td>-</td>\n",
              "      <td>0</td>\n",
              "      <td>1</td>\n",
              "      <td>0</td>\n",
              "      <td>0</td>\n",
              "      <td>...</td>\n",
              "      <td>0</td>\n",
              "      <td>0</td>\n",
              "      <td>0</td>\n",
              "      <td>0</td>\n",
              "      <td>0</td>\n",
              "      <td>0</td>\n",
              "      <td>0</td>\n",
              "      <td>0</td>\n",
              "      <td>0</td>\n",
              "      <td>0</td>\n",
              "    </tr>\n",
              "    <tr>\n",
              "      <th>4</th>\n",
              "      <td>BIOA-BRD-K00312224-001-03-8</td>\n",
              "      <td>CCCc1c(nn(c1-c1ccc(cc1)O)-c1ccc(cc1)O)-c1ccc(c...</td>\n",
              "      <td>-</td>\n",
              "      <td>-</td>\n",
              "      <td>-</td>\n",
              "      <td>-</td>\n",
              "      <td>0</td>\n",
              "      <td>0</td>\n",
              "      <td>0</td>\n",
              "      <td>0</td>\n",
              "      <td>...</td>\n",
              "      <td>0</td>\n",
              "      <td>0</td>\n",
              "      <td>0</td>\n",
              "      <td>0</td>\n",
              "      <td>0</td>\n",
              "      <td>0</td>\n",
              "      <td>0</td>\n",
              "      <td>0</td>\n",
              "      <td>0</td>\n",
              "      <td>0</td>\n",
              "    </tr>\n",
              "    <tr>\n",
              "      <th>...</th>\n",
              "      <td>...</td>\n",
              "      <td>...</td>\n",
              "      <td>...</td>\n",
              "      <td>...</td>\n",
              "      <td>...</td>\n",
              "      <td>...</td>\n",
              "      <td>...</td>\n",
              "      <td>...</td>\n",
              "      <td>...</td>\n",
              "      <td>...</td>\n",
              "      <td>...</td>\n",
              "      <td>...</td>\n",
              "      <td>...</td>\n",
              "      <td>...</td>\n",
              "      <td>...</td>\n",
              "      <td>...</td>\n",
              "      <td>...</td>\n",
              "      <td>...</td>\n",
              "      <td>...</td>\n",
              "      <td>...</td>\n",
              "      <td>...</td>\n",
              "    </tr>\n",
              "    <tr>\n",
              "      <th>197392</th>\n",
              "      <td>Z872348088</td>\n",
              "      <td>CN(C)c1ccc2cc(ccc2n1)NC(=O)c1cccc2cccnc12</td>\n",
              "      <td>-</td>\n",
              "      <td>-</td>\n",
              "      <td>-</td>\n",
              "      <td>-</td>\n",
              "      <td>0</td>\n",
              "      <td>0</td>\n",
              "      <td>0</td>\n",
              "      <td>0</td>\n",
              "      <td>...</td>\n",
              "      <td>0</td>\n",
              "      <td>0</td>\n",
              "      <td>0</td>\n",
              "      <td>0</td>\n",
              "      <td>0</td>\n",
              "      <td>0</td>\n",
              "      <td>0</td>\n",
              "      <td>0</td>\n",
              "      <td>0</td>\n",
              "      <td>0</td>\n",
              "    </tr>\n",
              "    <tr>\n",
              "      <th>197393</th>\n",
              "      <td>BRD-K59310169-001-09-6</td>\n",
              "      <td>COc1ccc(c(c1)O)-c1cn[nH]c1-c1ccccc1OC</td>\n",
              "      <td>-</td>\n",
              "      <td>-</td>\n",
              "      <td>-</td>\n",
              "      <td>-</td>\n",
              "      <td>0</td>\n",
              "      <td>0</td>\n",
              "      <td>0</td>\n",
              "      <td>0</td>\n",
              "      <td>...</td>\n",
              "      <td>0</td>\n",
              "      <td>0</td>\n",
              "      <td>0</td>\n",
              "      <td>0</td>\n",
              "      <td>0</td>\n",
              "      <td>0</td>\n",
              "      <td>0</td>\n",
              "      <td>0</td>\n",
              "      <td>0</td>\n",
              "      <td>0</td>\n",
              "    </tr>\n",
              "    <tr>\n",
              "      <th>197394</th>\n",
              "      <td>BRD-K00063208-001-01-9</td>\n",
              "      <td>CN(C)c1nc2c(s1)CN(CC2)c1ccc(cn1)C(F)(F)F</td>\n",
              "      <td>-</td>\n",
              "      <td>-</td>\n",
              "      <td>-</td>\n",
              "      <td>-</td>\n",
              "      <td>0</td>\n",
              "      <td>0</td>\n",
              "      <td>0</td>\n",
              "      <td>0</td>\n",
              "      <td>...</td>\n",
              "      <td>0</td>\n",
              "      <td>0</td>\n",
              "      <td>0</td>\n",
              "      <td>0</td>\n",
              "      <td>0</td>\n",
              "      <td>0</td>\n",
              "      <td>0</td>\n",
              "      <td>0</td>\n",
              "      <td>0</td>\n",
              "      <td>0</td>\n",
              "    </tr>\n",
              "    <tr>\n",
              "      <th>197395</th>\n",
              "      <td>BRD-K97010173-001-06-9</td>\n",
              "      <td>Oc1ccccc1-c1nc(n(n1)-c1ccc(cc1)C(=O)[O-])-c1cc...</td>\n",
              "      <td>-</td>\n",
              "      <td>-</td>\n",
              "      <td>-</td>\n",
              "      <td>-</td>\n",
              "      <td>0</td>\n",
              "      <td>0</td>\n",
              "      <td>0</td>\n",
              "      <td>0</td>\n",
              "      <td>...</td>\n",
              "      <td>0</td>\n",
              "      <td>0</td>\n",
              "      <td>0</td>\n",
              "      <td>0</td>\n",
              "      <td>0</td>\n",
              "      <td>0</td>\n",
              "      <td>0</td>\n",
              "      <td>0</td>\n",
              "      <td>0</td>\n",
              "      <td>0</td>\n",
              "    </tr>\n",
              "    <tr>\n",
              "      <th>197396</th>\n",
              "      <td>BRD-K12040459-001-06-0</td>\n",
              "      <td>Clc1ccc(cc1)[C@]1(CC[NH2+]CC1)c1ccc(cc1)-c1cn[...</td>\n",
              "      <td>-</td>\n",
              "      <td>-</td>\n",
              "      <td>-</td>\n",
              "      <td>-</td>\n",
              "      <td>0</td>\n",
              "      <td>0</td>\n",
              "      <td>0</td>\n",
              "      <td>0</td>\n",
              "      <td>...</td>\n",
              "      <td>0</td>\n",
              "      <td>0</td>\n",
              "      <td>0</td>\n",
              "      <td>0</td>\n",
              "      <td>0</td>\n",
              "      <td>0</td>\n",
              "      <td>0</td>\n",
              "      <td>0</td>\n",
              "      <td>0</td>\n",
              "      <td>0</td>\n",
              "    </tr>\n",
              "  </tbody>\n",
              "</table>\n",
              "<p>197397 rows × 1030 columns</p>\n",
              "</div>"
            ]
          },
          "metadata": {},
          "execution_count": 51
        }
      ]
    },
    {
      "cell_type": "code",
      "metadata": {
        "colab": {
          "base_uri": "https://localhost:8080/",
          "height": 881
        },
        "id": "5BnyMjfAHFS_",
        "outputId": "bf63f8d2-a757-4c4d-c002-ab38431ff4d7"
      },
      "source": [
        "active_tested_df"
      ],
      "execution_count": null,
      "outputs": [
        {
          "output_type": "execute_result",
          "data": {
            "text/plain": [
              "     Unnamed: 0                         Name  \\\n",
              "0             0  BIOA-BRD-K01826923-001-01-9   \n",
              "1             1  BIOA-BRD-K73191876-001-04-7   \n",
              "2             2  BIOA-BRD-K97139501-001-03-3   \n",
              "3             3  BIOA-BRD-K00317371-001-01-2   \n",
              "4             4  BIOA-BRD-K20742498-003-01-1   \n",
              "..          ...                          ...   \n",
              "412         412  REPO-BRD-K58685305-001-20-4   \n",
              "413         413  REPO-BRD-K12106308-003-01-9   \n",
              "414         414  REPO-BRD-K15025317-001-17-7   \n",
              "415         415  REPO-BRD-K59469039-001-09-8   \n",
              "416         416  REPO-BRD-K49788188-001-02-9   \n",
              "\n",
              "                                                SMILES ROUND1 ROUND2 ROUND3  \\\n",
              "0    COc1cccc2c1C(=O)c1c(c3c(c(c1C2=O)O)C[C@](O)(C[...    AT1      -      -   \n",
              "1                       Oc1ccc2c(c1O)C(=O)c1ccccc1C2=O    AT2      -      -   \n",
              "2                                       COc1cccc(c1O)O    AT1      -      -   \n",
              "3                    OCc1ccc(s1)-c1ccc(o1)-c1ccc(s1)CO    AT1      -      -   \n",
              "4    COc1cc(cc(c1)OC)COc1cc(c(cc1C(=O)CC[C@H]1CC[NH...    AT1      -      -   \n",
              "..                                                 ...    ...    ...    ...   \n",
              "412          Cc1cc(c2c(c1)C(=O)c1cc(cc(c1C2=O)O)[O-])O    AT1    AT2      -   \n",
              "413      CCCCOc1ccc(cc1)CC/C=C/1\\SC(=O)N(CC[NH3+])C1=O    AT1      -      -   \n",
              "414                       Cc1ccc(cc1)S(=O)(=O)/C=C/C#N    AT1    AT2      -   \n",
              "415      CC(C)(C)c1cc(cc(c1O)C(C)(C)C)/C=C(\\C#N)C(=S)N    AT1      -      -   \n",
              "416             CCc1ccc(o1)/C=C/C(=O)Nc1ccc(cc1)C(=O)C    AT1      -      -   \n",
              "\n",
              "    ROUND4  bit0  bit1  bit2  ...  bit1014  bit1015  bit1016  bit1017  \\\n",
              "0        -     0     0     0  ...        0        0        0        0   \n",
              "1        -     0     1     0  ...        0        0        0        0   \n",
              "2        -     0     0     0  ...        0        0        0        0   \n",
              "3        -     0     0     0  ...        0        0        0        0   \n",
              "4        -     0     0     0  ...        0        0        0        0   \n",
              "..     ...   ...   ...   ...  ...      ...      ...      ...      ...   \n",
              "412      -     0     0     0  ...        0        0        0        0   \n",
              "413      -     0     0     0  ...        0        0        0        0   \n",
              "414      -     0     0     0  ...        0        0        0        0   \n",
              "415      -     0     0     0  ...        0        0        0        0   \n",
              "416      -     0     0     0  ...        0        0        0        1   \n",
              "\n",
              "     bit1018  bit1019  bit1020  bit1021  bit1022  bit1023  \n",
              "0          0        1        0        0        0        0  \n",
              "1          0        0        0        0        0        0  \n",
              "2          0        0        0        0        0        0  \n",
              "3          0        0        0        0        0        0  \n",
              "4          0        1        0        0        0        0  \n",
              "..       ...      ...      ...      ...      ...      ...  \n",
              "412        0        0        0        0        0        0  \n",
              "413        0        0        1        0        0        0  \n",
              "414        0        0        0        0        0        0  \n",
              "415        0        0        0        0        0        0  \n",
              "416        0        0        0        0        0        0  \n",
              "\n",
              "[417 rows x 1031 columns]"
            ],
            "text/html": [
              "<div>\n",
              "<style scoped>\n",
              "    .dataframe tbody tr th:only-of-type {\n",
              "        vertical-align: middle;\n",
              "    }\n",
              "\n",
              "    .dataframe tbody tr th {\n",
              "        vertical-align: top;\n",
              "    }\n",
              "\n",
              "    .dataframe thead th {\n",
              "        text-align: right;\n",
              "    }\n",
              "</style>\n",
              "<table border=\"1\" class=\"dataframe\">\n",
              "  <thead>\n",
              "    <tr style=\"text-align: right;\">\n",
              "      <th></th>\n",
              "      <th>Unnamed: 0</th>\n",
              "      <th>Name</th>\n",
              "      <th>SMILES</th>\n",
              "      <th>ROUND1</th>\n",
              "      <th>ROUND2</th>\n",
              "      <th>ROUND3</th>\n",
              "      <th>ROUND4</th>\n",
              "      <th>bit0</th>\n",
              "      <th>bit1</th>\n",
              "      <th>bit2</th>\n",
              "      <th>...</th>\n",
              "      <th>bit1014</th>\n",
              "      <th>bit1015</th>\n",
              "      <th>bit1016</th>\n",
              "      <th>bit1017</th>\n",
              "      <th>bit1018</th>\n",
              "      <th>bit1019</th>\n",
              "      <th>bit1020</th>\n",
              "      <th>bit1021</th>\n",
              "      <th>bit1022</th>\n",
              "      <th>bit1023</th>\n",
              "    </tr>\n",
              "  </thead>\n",
              "  <tbody>\n",
              "    <tr>\n",
              "      <th>0</th>\n",
              "      <td>0</td>\n",
              "      <td>BIOA-BRD-K01826923-001-01-9</td>\n",
              "      <td>COc1cccc2c1C(=O)c1c(c3c(c(c1C2=O)O)C[C@](O)(C[...</td>\n",
              "      <td>AT1</td>\n",
              "      <td>-</td>\n",
              "      <td>-</td>\n",
              "      <td>-</td>\n",
              "      <td>0</td>\n",
              "      <td>0</td>\n",
              "      <td>0</td>\n",
              "      <td>...</td>\n",
              "      <td>0</td>\n",
              "      <td>0</td>\n",
              "      <td>0</td>\n",
              "      <td>0</td>\n",
              "      <td>0</td>\n",
              "      <td>1</td>\n",
              "      <td>0</td>\n",
              "      <td>0</td>\n",
              "      <td>0</td>\n",
              "      <td>0</td>\n",
              "    </tr>\n",
              "    <tr>\n",
              "      <th>1</th>\n",
              "      <td>1</td>\n",
              "      <td>BIOA-BRD-K73191876-001-04-7</td>\n",
              "      <td>Oc1ccc2c(c1O)C(=O)c1ccccc1C2=O</td>\n",
              "      <td>AT2</td>\n",
              "      <td>-</td>\n",
              "      <td>-</td>\n",
              "      <td>-</td>\n",
              "      <td>0</td>\n",
              "      <td>1</td>\n",
              "      <td>0</td>\n",
              "      <td>...</td>\n",
              "      <td>0</td>\n",
              "      <td>0</td>\n",
              "      <td>0</td>\n",
              "      <td>0</td>\n",
              "      <td>0</td>\n",
              "      <td>0</td>\n",
              "      <td>0</td>\n",
              "      <td>0</td>\n",
              "      <td>0</td>\n",
              "      <td>0</td>\n",
              "    </tr>\n",
              "    <tr>\n",
              "      <th>2</th>\n",
              "      <td>2</td>\n",
              "      <td>BIOA-BRD-K97139501-001-03-3</td>\n",
              "      <td>COc1cccc(c1O)O</td>\n",
              "      <td>AT1</td>\n",
              "      <td>-</td>\n",
              "      <td>-</td>\n",
              "      <td>-</td>\n",
              "      <td>0</td>\n",
              "      <td>0</td>\n",
              "      <td>0</td>\n",
              "      <td>...</td>\n",
              "      <td>0</td>\n",
              "      <td>0</td>\n",
              "      <td>0</td>\n",
              "      <td>0</td>\n",
              "      <td>0</td>\n",
              "      <td>0</td>\n",
              "      <td>0</td>\n",
              "      <td>0</td>\n",
              "      <td>0</td>\n",
              "      <td>0</td>\n",
              "    </tr>\n",
              "    <tr>\n",
              "      <th>3</th>\n",
              "      <td>3</td>\n",
              "      <td>BIOA-BRD-K00317371-001-01-2</td>\n",
              "      <td>OCc1ccc(s1)-c1ccc(o1)-c1ccc(s1)CO</td>\n",
              "      <td>AT1</td>\n",
              "      <td>-</td>\n",
              "      <td>-</td>\n",
              "      <td>-</td>\n",
              "      <td>0</td>\n",
              "      <td>0</td>\n",
              "      <td>0</td>\n",
              "      <td>...</td>\n",
              "      <td>0</td>\n",
              "      <td>0</td>\n",
              "      <td>0</td>\n",
              "      <td>0</td>\n",
              "      <td>0</td>\n",
              "      <td>0</td>\n",
              "      <td>0</td>\n",
              "      <td>0</td>\n",
              "      <td>0</td>\n",
              "      <td>0</td>\n",
              "    </tr>\n",
              "    <tr>\n",
              "      <th>4</th>\n",
              "      <td>4</td>\n",
              "      <td>BIOA-BRD-K20742498-003-01-1</td>\n",
              "      <td>COc1cc(cc(c1)OC)COc1cc(c(cc1C(=O)CC[C@H]1CC[NH...</td>\n",
              "      <td>AT1</td>\n",
              "      <td>-</td>\n",
              "      <td>-</td>\n",
              "      <td>-</td>\n",
              "      <td>0</td>\n",
              "      <td>0</td>\n",
              "      <td>0</td>\n",
              "      <td>...</td>\n",
              "      <td>0</td>\n",
              "      <td>0</td>\n",
              "      <td>0</td>\n",
              "      <td>0</td>\n",
              "      <td>0</td>\n",
              "      <td>1</td>\n",
              "      <td>0</td>\n",
              "      <td>0</td>\n",
              "      <td>0</td>\n",
              "      <td>0</td>\n",
              "    </tr>\n",
              "    <tr>\n",
              "      <th>...</th>\n",
              "      <td>...</td>\n",
              "      <td>...</td>\n",
              "      <td>...</td>\n",
              "      <td>...</td>\n",
              "      <td>...</td>\n",
              "      <td>...</td>\n",
              "      <td>...</td>\n",
              "      <td>...</td>\n",
              "      <td>...</td>\n",
              "      <td>...</td>\n",
              "      <td>...</td>\n",
              "      <td>...</td>\n",
              "      <td>...</td>\n",
              "      <td>...</td>\n",
              "      <td>...</td>\n",
              "      <td>...</td>\n",
              "      <td>...</td>\n",
              "      <td>...</td>\n",
              "      <td>...</td>\n",
              "      <td>...</td>\n",
              "      <td>...</td>\n",
              "    </tr>\n",
              "    <tr>\n",
              "      <th>412</th>\n",
              "      <td>412</td>\n",
              "      <td>REPO-BRD-K58685305-001-20-4</td>\n",
              "      <td>Cc1cc(c2c(c1)C(=O)c1cc(cc(c1C2=O)O)[O-])O</td>\n",
              "      <td>AT1</td>\n",
              "      <td>AT2</td>\n",
              "      <td>-</td>\n",
              "      <td>-</td>\n",
              "      <td>0</td>\n",
              "      <td>0</td>\n",
              "      <td>0</td>\n",
              "      <td>...</td>\n",
              "      <td>0</td>\n",
              "      <td>0</td>\n",
              "      <td>0</td>\n",
              "      <td>0</td>\n",
              "      <td>0</td>\n",
              "      <td>0</td>\n",
              "      <td>0</td>\n",
              "      <td>0</td>\n",
              "      <td>0</td>\n",
              "      <td>0</td>\n",
              "    </tr>\n",
              "    <tr>\n",
              "      <th>413</th>\n",
              "      <td>413</td>\n",
              "      <td>REPO-BRD-K12106308-003-01-9</td>\n",
              "      <td>CCCCOc1ccc(cc1)CC/C=C/1\\SC(=O)N(CC[NH3+])C1=O</td>\n",
              "      <td>AT1</td>\n",
              "      <td>-</td>\n",
              "      <td>-</td>\n",
              "      <td>-</td>\n",
              "      <td>0</td>\n",
              "      <td>0</td>\n",
              "      <td>0</td>\n",
              "      <td>...</td>\n",
              "      <td>0</td>\n",
              "      <td>0</td>\n",
              "      <td>0</td>\n",
              "      <td>0</td>\n",
              "      <td>0</td>\n",
              "      <td>0</td>\n",
              "      <td>1</td>\n",
              "      <td>0</td>\n",
              "      <td>0</td>\n",
              "      <td>0</td>\n",
              "    </tr>\n",
              "    <tr>\n",
              "      <th>414</th>\n",
              "      <td>414</td>\n",
              "      <td>REPO-BRD-K15025317-001-17-7</td>\n",
              "      <td>Cc1ccc(cc1)S(=O)(=O)/C=C/C#N</td>\n",
              "      <td>AT1</td>\n",
              "      <td>AT2</td>\n",
              "      <td>-</td>\n",
              "      <td>-</td>\n",
              "      <td>0</td>\n",
              "      <td>0</td>\n",
              "      <td>0</td>\n",
              "      <td>...</td>\n",
              "      <td>0</td>\n",
              "      <td>0</td>\n",
              "      <td>0</td>\n",
              "      <td>0</td>\n",
              "      <td>0</td>\n",
              "      <td>0</td>\n",
              "      <td>0</td>\n",
              "      <td>0</td>\n",
              "      <td>0</td>\n",
              "      <td>0</td>\n",
              "    </tr>\n",
              "    <tr>\n",
              "      <th>415</th>\n",
              "      <td>415</td>\n",
              "      <td>REPO-BRD-K59469039-001-09-8</td>\n",
              "      <td>CC(C)(C)c1cc(cc(c1O)C(C)(C)C)/C=C(\\C#N)C(=S)N</td>\n",
              "      <td>AT1</td>\n",
              "      <td>-</td>\n",
              "      <td>-</td>\n",
              "      <td>-</td>\n",
              "      <td>0</td>\n",
              "      <td>0</td>\n",
              "      <td>0</td>\n",
              "      <td>...</td>\n",
              "      <td>0</td>\n",
              "      <td>0</td>\n",
              "      <td>0</td>\n",
              "      <td>0</td>\n",
              "      <td>0</td>\n",
              "      <td>0</td>\n",
              "      <td>0</td>\n",
              "      <td>0</td>\n",
              "      <td>0</td>\n",
              "      <td>0</td>\n",
              "    </tr>\n",
              "    <tr>\n",
              "      <th>416</th>\n",
              "      <td>416</td>\n",
              "      <td>REPO-BRD-K49788188-001-02-9</td>\n",
              "      <td>CCc1ccc(o1)/C=C/C(=O)Nc1ccc(cc1)C(=O)C</td>\n",
              "      <td>AT1</td>\n",
              "      <td>-</td>\n",
              "      <td>-</td>\n",
              "      <td>-</td>\n",
              "      <td>0</td>\n",
              "      <td>0</td>\n",
              "      <td>0</td>\n",
              "      <td>...</td>\n",
              "      <td>0</td>\n",
              "      <td>0</td>\n",
              "      <td>0</td>\n",
              "      <td>1</td>\n",
              "      <td>0</td>\n",
              "      <td>0</td>\n",
              "      <td>0</td>\n",
              "      <td>0</td>\n",
              "      <td>0</td>\n",
              "      <td>0</td>\n",
              "    </tr>\n",
              "  </tbody>\n",
              "</table>\n",
              "<p>417 rows × 1031 columns</p>\n",
              "</div>"
            ]
          },
          "metadata": {},
          "execution_count": 52
        }
      ]
    },
    {
      "cell_type": "code",
      "metadata": {
        "colab": {
          "base_uri": "https://localhost:8080/",
          "height": 592
        },
        "id": "6G5DOtEeHMD6",
        "outputId": "2653b57b-dcd6-474e-e094-5abbe980e11f"
      },
      "source": [
        "active_known_df"
      ],
      "execution_count": null,
      "outputs": [
        {
          "output_type": "execute_result",
          "data": {
            "text/plain": [
              "    Unnamed: 0      Name                                             SMILES  \\\n",
              "0            0     10f-R  Cc1cc(sc1C(=O)N[C@@H](CCCNC(=[NH2+])N)C(=O)[O-...   \n",
              "1            1     10f-S  Cc1cc(sc1C(=O)N[C@@H](CCCNC(=[NH2+])N)C(=O)[O-...   \n",
              "2            2    AmPip5  O=C(CCc1cccnc1)N1CC[C@H](CC1)NC(=O)C(c1ccccc1)...   \n",
              "3            3    AmPip6  Clc1ccc(cc1)C(C(=O)N[C@H]1CCN(CC1)C(=O)CCc1ccc...   \n",
              "4            4     BR103  Cc1[nH]c(nc1C(=O)N[C@@H](CCCNC(=[NH2+])N)C(=O)...   \n",
              "..         ...       ...                                                ...   \n",
              "73          73  SB280936  NC(=[NH2+])NCCC[C@H](NC(=O)CN(Cc1cc(cc(c1)Cl)C...   \n",
              "74          74  SB290157  NC(=[NH2+])NCCC[C@H](NC(=O)COCC(c1ccccc1)c1ccc...   \n",
              "75          75   SC214-R  O=C(CCc1cccnc1)N1CC[C@H](CC1)NC(=O)[C@H]([C@H]...   \n",
              "76          76   SC214-S  O=C(CCc1cccnc1)N1CC[C@H](CC1)NC(=O)[C@@H]([C@H...   \n",
              "77          77  SKF63649  NC(=[NH2+])NCCC[C@H](NC(=O)COCc1cccc2ccccc12)C...   \n",
              "\n",
              "   ACTIVITY                ann1        ann2       ann3  bit0  bit1  bit2  ...  \\\n",
              "0         +  enantiomer unknown     noknown    noknown     0     1     1  ...   \n",
              "1         +             noknown  0 inactive  ? Unknown     0     1     1  ...   \n",
              "2         -             noknown     noknown    noknown     0     1     0  ...   \n",
              "3         -             noknown     noknown    noknown     0     1     0  ...   \n",
              "4         +             noknown     noknown    noknown     0     1     0  ...   \n",
              "..      ...                 ...         ...        ...   ...   ...   ...  ...   \n",
              "73        -             noknown     noknown    noknown     0     1     0  ...   \n",
              "74        -             noknown     noknown    noknown     0     1     0  ...   \n",
              "75        +             noknown     noknown    noknown     0     1     1  ...   \n",
              "76        +             noknown     noknown    noknown     0     1     1  ...   \n",
              "77        -             noknown     noknown    noknown     0     1     0  ...   \n",
              "\n",
              "    bit1014  bit1015  bit1016  bit1017  bit1018  bit1019  bit1020  bit1021  \\\n",
              "0         0        0        0        0        0        1        0        0   \n",
              "1         0        0        0        0        0        1        0        0   \n",
              "2         0        0        0        0        0        1        0        0   \n",
              "3         0        0        0        0        0        1        0        0   \n",
              "4         0        0        0        0        0        0        0        0   \n",
              "..      ...      ...      ...      ...      ...      ...      ...      ...   \n",
              "73        0        0        0        0        0        0        0        0   \n",
              "74        0        0        0        0        0        0        0        0   \n",
              "75        0        0        0        0        0        1        0        0   \n",
              "76        0        0        0        0        0        1        0        0   \n",
              "77        0        0        0        0        0        0        0        0   \n",
              "\n",
              "    bit1022  bit1023  \n",
              "0         0        0  \n",
              "1         0        0  \n",
              "2         0        0  \n",
              "3         0        0  \n",
              "4         0        0  \n",
              "..      ...      ...  \n",
              "73        0        0  \n",
              "74        0        0  \n",
              "75        0        0  \n",
              "76        0        0  \n",
              "77        0        0  \n",
              "\n",
              "[78 rows x 1031 columns]"
            ],
            "text/html": [
              "<div>\n",
              "<style scoped>\n",
              "    .dataframe tbody tr th:only-of-type {\n",
              "        vertical-align: middle;\n",
              "    }\n",
              "\n",
              "    .dataframe tbody tr th {\n",
              "        vertical-align: top;\n",
              "    }\n",
              "\n",
              "    .dataframe thead th {\n",
              "        text-align: right;\n",
              "    }\n",
              "</style>\n",
              "<table border=\"1\" class=\"dataframe\">\n",
              "  <thead>\n",
              "    <tr style=\"text-align: right;\">\n",
              "      <th></th>\n",
              "      <th>Unnamed: 0</th>\n",
              "      <th>Name</th>\n",
              "      <th>SMILES</th>\n",
              "      <th>ACTIVITY</th>\n",
              "      <th>ann1</th>\n",
              "      <th>ann2</th>\n",
              "      <th>ann3</th>\n",
              "      <th>bit0</th>\n",
              "      <th>bit1</th>\n",
              "      <th>bit2</th>\n",
              "      <th>...</th>\n",
              "      <th>bit1014</th>\n",
              "      <th>bit1015</th>\n",
              "      <th>bit1016</th>\n",
              "      <th>bit1017</th>\n",
              "      <th>bit1018</th>\n",
              "      <th>bit1019</th>\n",
              "      <th>bit1020</th>\n",
              "      <th>bit1021</th>\n",
              "      <th>bit1022</th>\n",
              "      <th>bit1023</th>\n",
              "    </tr>\n",
              "  </thead>\n",
              "  <tbody>\n",
              "    <tr>\n",
              "      <th>0</th>\n",
              "      <td>0</td>\n",
              "      <td>10f-R</td>\n",
              "      <td>Cc1cc(sc1C(=O)N[C@@H](CCCNC(=[NH2+])N)C(=O)[O-...</td>\n",
              "      <td>+</td>\n",
              "      <td>enantiomer unknown</td>\n",
              "      <td>noknown</td>\n",
              "      <td>noknown</td>\n",
              "      <td>0</td>\n",
              "      <td>1</td>\n",
              "      <td>1</td>\n",
              "      <td>...</td>\n",
              "      <td>0</td>\n",
              "      <td>0</td>\n",
              "      <td>0</td>\n",
              "      <td>0</td>\n",
              "      <td>0</td>\n",
              "      <td>1</td>\n",
              "      <td>0</td>\n",
              "      <td>0</td>\n",
              "      <td>0</td>\n",
              "      <td>0</td>\n",
              "    </tr>\n",
              "    <tr>\n",
              "      <th>1</th>\n",
              "      <td>1</td>\n",
              "      <td>10f-S</td>\n",
              "      <td>Cc1cc(sc1C(=O)N[C@@H](CCCNC(=[NH2+])N)C(=O)[O-...</td>\n",
              "      <td>+</td>\n",
              "      <td>noknown</td>\n",
              "      <td>0 inactive</td>\n",
              "      <td>? Unknown</td>\n",
              "      <td>0</td>\n",
              "      <td>1</td>\n",
              "      <td>1</td>\n",
              "      <td>...</td>\n",
              "      <td>0</td>\n",
              "      <td>0</td>\n",
              "      <td>0</td>\n",
              "      <td>0</td>\n",
              "      <td>0</td>\n",
              "      <td>1</td>\n",
              "      <td>0</td>\n",
              "      <td>0</td>\n",
              "      <td>0</td>\n",
              "      <td>0</td>\n",
              "    </tr>\n",
              "    <tr>\n",
              "      <th>2</th>\n",
              "      <td>2</td>\n",
              "      <td>AmPip5</td>\n",
              "      <td>O=C(CCc1cccnc1)N1CC[C@H](CC1)NC(=O)C(c1ccccc1)...</td>\n",
              "      <td>-</td>\n",
              "      <td>noknown</td>\n",
              "      <td>noknown</td>\n",
              "      <td>noknown</td>\n",
              "      <td>0</td>\n",
              "      <td>1</td>\n",
              "      <td>0</td>\n",
              "      <td>...</td>\n",
              "      <td>0</td>\n",
              "      <td>0</td>\n",
              "      <td>0</td>\n",
              "      <td>0</td>\n",
              "      <td>0</td>\n",
              "      <td>1</td>\n",
              "      <td>0</td>\n",
              "      <td>0</td>\n",
              "      <td>0</td>\n",
              "      <td>0</td>\n",
              "    </tr>\n",
              "    <tr>\n",
              "      <th>3</th>\n",
              "      <td>3</td>\n",
              "      <td>AmPip6</td>\n",
              "      <td>Clc1ccc(cc1)C(C(=O)N[C@H]1CCN(CC1)C(=O)CCc1ccc...</td>\n",
              "      <td>-</td>\n",
              "      <td>noknown</td>\n",
              "      <td>noknown</td>\n",
              "      <td>noknown</td>\n",
              "      <td>0</td>\n",
              "      <td>1</td>\n",
              "      <td>0</td>\n",
              "      <td>...</td>\n",
              "      <td>0</td>\n",
              "      <td>0</td>\n",
              "      <td>0</td>\n",
              "      <td>0</td>\n",
              "      <td>0</td>\n",
              "      <td>1</td>\n",
              "      <td>0</td>\n",
              "      <td>0</td>\n",
              "      <td>0</td>\n",
              "      <td>0</td>\n",
              "    </tr>\n",
              "    <tr>\n",
              "      <th>4</th>\n",
              "      <td>4</td>\n",
              "      <td>BR103</td>\n",
              "      <td>Cc1[nH]c(nc1C(=O)N[C@@H](CCCNC(=[NH2+])N)C(=O)...</td>\n",
              "      <td>+</td>\n",
              "      <td>noknown</td>\n",
              "      <td>noknown</td>\n",
              "      <td>noknown</td>\n",
              "      <td>0</td>\n",
              "      <td>1</td>\n",
              "      <td>0</td>\n",
              "      <td>...</td>\n",
              "      <td>0</td>\n",
              "      <td>0</td>\n",
              "      <td>0</td>\n",
              "      <td>0</td>\n",
              "      <td>0</td>\n",
              "      <td>0</td>\n",
              "      <td>0</td>\n",
              "      <td>0</td>\n",
              "      <td>0</td>\n",
              "      <td>0</td>\n",
              "    </tr>\n",
              "    <tr>\n",
              "      <th>...</th>\n",
              "      <td>...</td>\n",
              "      <td>...</td>\n",
              "      <td>...</td>\n",
              "      <td>...</td>\n",
              "      <td>...</td>\n",
              "      <td>...</td>\n",
              "      <td>...</td>\n",
              "      <td>...</td>\n",
              "      <td>...</td>\n",
              "      <td>...</td>\n",
              "      <td>...</td>\n",
              "      <td>...</td>\n",
              "      <td>...</td>\n",
              "      <td>...</td>\n",
              "      <td>...</td>\n",
              "      <td>...</td>\n",
              "      <td>...</td>\n",
              "      <td>...</td>\n",
              "      <td>...</td>\n",
              "      <td>...</td>\n",
              "      <td>...</td>\n",
              "    </tr>\n",
              "    <tr>\n",
              "      <th>73</th>\n",
              "      <td>73</td>\n",
              "      <td>SB280936</td>\n",
              "      <td>NC(=[NH2+])NCCC[C@H](NC(=O)CN(Cc1cc(cc(c1)Cl)C...</td>\n",
              "      <td>-</td>\n",
              "      <td>noknown</td>\n",
              "      <td>noknown</td>\n",
              "      <td>noknown</td>\n",
              "      <td>0</td>\n",
              "      <td>1</td>\n",
              "      <td>0</td>\n",
              "      <td>...</td>\n",
              "      <td>0</td>\n",
              "      <td>0</td>\n",
              "      <td>0</td>\n",
              "      <td>0</td>\n",
              "      <td>0</td>\n",
              "      <td>0</td>\n",
              "      <td>0</td>\n",
              "      <td>0</td>\n",
              "      <td>0</td>\n",
              "      <td>0</td>\n",
              "    </tr>\n",
              "    <tr>\n",
              "      <th>74</th>\n",
              "      <td>74</td>\n",
              "      <td>SB290157</td>\n",
              "      <td>NC(=[NH2+])NCCC[C@H](NC(=O)COCC(c1ccccc1)c1ccc...</td>\n",
              "      <td>-</td>\n",
              "      <td>noknown</td>\n",
              "      <td>noknown</td>\n",
              "      <td>noknown</td>\n",
              "      <td>0</td>\n",
              "      <td>1</td>\n",
              "      <td>0</td>\n",
              "      <td>...</td>\n",
              "      <td>0</td>\n",
              "      <td>0</td>\n",
              "      <td>0</td>\n",
              "      <td>0</td>\n",
              "      <td>0</td>\n",
              "      <td>0</td>\n",
              "      <td>0</td>\n",
              "      <td>0</td>\n",
              "      <td>0</td>\n",
              "      <td>0</td>\n",
              "    </tr>\n",
              "    <tr>\n",
              "      <th>75</th>\n",
              "      <td>75</td>\n",
              "      <td>SC214-R</td>\n",
              "      <td>O=C(CCc1cccnc1)N1CC[C@H](CC1)NC(=O)[C@H]([C@H]...</td>\n",
              "      <td>+</td>\n",
              "      <td>noknown</td>\n",
              "      <td>noknown</td>\n",
              "      <td>noknown</td>\n",
              "      <td>0</td>\n",
              "      <td>1</td>\n",
              "      <td>1</td>\n",
              "      <td>...</td>\n",
              "      <td>0</td>\n",
              "      <td>0</td>\n",
              "      <td>0</td>\n",
              "      <td>0</td>\n",
              "      <td>0</td>\n",
              "      <td>1</td>\n",
              "      <td>0</td>\n",
              "      <td>0</td>\n",
              "      <td>0</td>\n",
              "      <td>0</td>\n",
              "    </tr>\n",
              "    <tr>\n",
              "      <th>76</th>\n",
              "      <td>76</td>\n",
              "      <td>SC214-S</td>\n",
              "      <td>O=C(CCc1cccnc1)N1CC[C@H](CC1)NC(=O)[C@@H]([C@H...</td>\n",
              "      <td>+</td>\n",
              "      <td>noknown</td>\n",
              "      <td>noknown</td>\n",
              "      <td>noknown</td>\n",
              "      <td>0</td>\n",
              "      <td>1</td>\n",
              "      <td>1</td>\n",
              "      <td>...</td>\n",
              "      <td>0</td>\n",
              "      <td>0</td>\n",
              "      <td>0</td>\n",
              "      <td>0</td>\n",
              "      <td>0</td>\n",
              "      <td>1</td>\n",
              "      <td>0</td>\n",
              "      <td>0</td>\n",
              "      <td>0</td>\n",
              "      <td>0</td>\n",
              "    </tr>\n",
              "    <tr>\n",
              "      <th>77</th>\n",
              "      <td>77</td>\n",
              "      <td>SKF63649</td>\n",
              "      <td>NC(=[NH2+])NCCC[C@H](NC(=O)COCc1cccc2ccccc12)C...</td>\n",
              "      <td>-</td>\n",
              "      <td>noknown</td>\n",
              "      <td>noknown</td>\n",
              "      <td>noknown</td>\n",
              "      <td>0</td>\n",
              "      <td>1</td>\n",
              "      <td>0</td>\n",
              "      <td>...</td>\n",
              "      <td>0</td>\n",
              "      <td>0</td>\n",
              "      <td>0</td>\n",
              "      <td>0</td>\n",
              "      <td>0</td>\n",
              "      <td>0</td>\n",
              "      <td>0</td>\n",
              "      <td>0</td>\n",
              "      <td>0</td>\n",
              "      <td>0</td>\n",
              "    </tr>\n",
              "  </tbody>\n",
              "</table>\n",
              "<p>78 rows × 1031 columns</p>\n",
              "</div>"
            ]
          },
          "metadata": {},
          "execution_count": 53
        }
      ]
    },
    {
      "cell_type": "markdown",
      "metadata": {
        "id": "BLzqu7c-RPg_"
      },
      "source": [
        "Convert dataframes to PyTorch."
      ]
    },
    {
      "cell_type": "code",
      "metadata": {
        "id": "HijaiwPwRPg_"
      },
      "source": [
        "feature_cols = [f\"bit{i}\" for i in range(1024)]\n",
        "def to_tensor(df):\n",
        "    return torch.tensor(df[feature_cols].to_numpy(), dtype=torch.float)\n",
        "inactive_features = to_tensor(inactive_df)\n",
        "active_tested_features = to_tensor(active_tested_df)\n",
        "active_known_features = to_tensor(active_known_df)"
      ],
      "execution_count": null,
      "outputs": []
    },
    {
      "cell_type": "markdown",
      "metadata": {
        "id": "rJXclMcURPhA"
      },
      "source": [
        "Merge the three data sources."
      ]
    },
    {
      "cell_type": "code",
      "metadata": {
        "id": "L0NyZhWkRPhA"
      },
      "source": [
        "features = torch.cat([active_known_features, active_tested_features, inactive_features])\n",
        "K = len(active_known_features)\n",
        "T = len(active_tested_features)\n",
        "I = len(inactive_features)\n",
        "true_labels = torch.cat([torch.ones(K + T), torch.zeros(I)])"
      ],
      "execution_count": null,
      "outputs": []
    },
    {
      "cell_type": "markdown",
      "metadata": {
        "id": "B6wXI7bCRPhC"
      },
      "source": [
        "Randomly shuffle data for our simulated experiment. We'll keep the known labels first because they were known before the experiment started. Then we'll shuffle the inactive and active tested features to simulate further data acquisition."
      ]
    },
    {
      "cell_type": "code",
      "metadata": {
        "id": "l7d5HRxORPhC"
      },
      "source": [
        "torch.manual_seed(20211018)\n",
        "perm = torch.cat([torch.arange(K), K + torch.randperm(T + I)])\n",
        "\n",
        "features = features[perm]\n",
        "true_labels = true_labels[perm]"
      ],
      "execution_count": null,
      "outputs": []
    },
    {
      "cell_type": "markdown",
      "metadata": {
        "id": "WwV8YxF4UJl3"
      },
      "source": [
        "## Active learning pipeline"
      ]
    },
    {
      "cell_type": "code",
      "metadata": {
        "colab": {
          "base_uri": "https://localhost:8080/"
        },
        "id": "hdotHHxtT5tM",
        "outputId": "d389002d-a473-4fea-da3a-612f173c3929"
      },
      "source": [
        "random_batches = active_learn(RandomModel, batch_size=4000, num_batches=10)"
      ],
      "execution_count": null,
      "outputs": [
        {
          "output_type": "stream",
          "name": "stdout",
          "text": [
            "Found 87 positives\n",
            "Found 99 positives\n",
            "Found 111 positives\n",
            "Found 120 positives\n",
            "Found 128 positives\n",
            "Found 133 positives\n",
            "Found 138 positives\n",
            "Found 145 positives\n",
            "Found 159 positives\n",
            "Found 170 positives\n"
          ]
        }
      ]
    },
    {
      "cell_type": "code",
      "metadata": {
        "colab": {
          "base_uri": "https://localhost:8080/"
        },
        "id": "s4rms71mUwq_",
        "outputId": "c8ecb64f-42d6-4743-9652-7ccb21a8da32"
      },
      "source": [
        "%%time\n",
        "greedy_batches = active_learn(GreedyMLP, batch_size=4000, num_batches=10)"
      ],
      "execution_count": null,
      "outputs": [
        {
          "output_type": "stream",
          "name": "stdout",
          "text": [
            "Found 87 positives\n",
            "Found 123 positives\n",
            "Found 131 positives\n",
            "Found 142 positives\n",
            "Found 148 positives\n",
            "Found 164 positives\n",
            "Found 175 positives\n",
            "Found 197 positives\n",
            "Found 214 positives\n",
            "Found 228 positives\n",
            "CPU times: user 3min 21s, sys: 35.5 s, total: 3min 56s\n",
            "Wall time: 3min 6s\n"
          ]
        }
      ]
    },
    {
      "cell_type": "code",
      "metadata": {
        "colab": {
          "base_uri": "https://localhost:8080/"
        },
        "id": "2zc90g81VV6B",
        "outputId": "48a70122-35dd-4445-aadc-5b67feda8ad5"
      },
      "source": [
        "%%time\n",
        "exploratory_batches = active_learn(\n",
        "    ExploratoryMLP, thompson_batch_size=100, batch_size=4000, num_batches=10\n",
        ")"
      ],
      "execution_count": null,
      "outputs": [
        {
          "output_type": "stream",
          "name": "stdout",
          "text": [
            "Found 87 positives\n",
            "........................................Found 103 positives\n",
            "........................................Found 121 positives\n",
            "........................................Found 129 positives\n",
            "........................................Found 133 positives\n",
            "........................................Found 138 positives\n",
            "........................................Found 144 positives\n",
            "........................................Found 150 positives\n",
            "........................................Found 160 positives\n",
            "........................................Found 172 positives\n",
            "CPU times: user 13min 45s, sys: 3min 24s, total: 17min 10s\n",
            "Wall time: 12min 10s\n"
          ]
        }
      ]
    },
    {
      "cell_type": "code",
      "metadata": {
        "colab": {
          "base_uri": "https://localhost:8080/",
          "height": 449
        },
        "id": "TCKQm0hOVbg6",
        "outputId": "8354584a-6edf-4527-a01d-c24787dc85c8"
      },
      "source": [
        "plot_comparisons(\n",
        "    random=random_batches,\n",
        "    greedy=greedy_batches,\n",
        "    exploratory=exploratory_batches,\n",
        ")"
      ],
      "execution_count": null,
      "outputs": [
        {
          "output_type": "display_data",
          "data": {
            "text/plain": [
              "<Figure size 640x480 with 1 Axes>"
            ],
            "image/png": "[encoded data removed]"
          },
          "metadata": {}
        }
      ]
    },
    {
      "cell_type": "code",
      "metadata": {
        "id": "usvzFEfbWmGt"
      },
      "source": [
        ""
      ],
      "execution_count": null,
      "outputs": []
    }
  ]
}